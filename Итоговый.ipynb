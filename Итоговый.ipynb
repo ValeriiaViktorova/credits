{
 "cells": [
  {
   "cell_type": "markdown",
   "metadata": {},
   "source": [
    "# Исследование надёжности заёмщиков\n",
    "\n",
    "Заказчик — кредитный отдел банка. Нужно разобраться, влияет ли семейное положение и количество детей клиента на факт погашения кредита в срок. Входные данные от банка — статистика о платёжеспособности клиентов.\n",
    "\n",
    "Результаты исследования будут учтены при построении модели **кредитного скоринга** — специальной системы, которая оценивает способность потенциального заёмщика вернуть кредит банку.\n",
    "\n",
    "Описание данных:\n",
    "\n",
    "- children — количество детей в семье\n",
    "\n",
    "- days_employed — общий трудовой стаж в днях\n",
    "\n",
    "- dob_years — возраст клиента в годах\n",
    "\n",
    "- education — уровень образования клиента\n",
    "\n",
    "- education_id — идентификатор уровня образования\n",
    "\n",
    "- family_status — семейное положение\n",
    "\n",
    "- family_status_id — идентификатор семейного положения\n",
    "\n",
    "- gender — пол клиента\n",
    "\n",
    "- income_type — тип занятости\n",
    "\n",
    "- debt — имел ли задолженность по возврату кредитов\n",
    "\n",
    "- total_income — ежемесячный доход\n",
    "\n",
    "- purpose — цель получения кредита"
   ]
  },
  {
   "cell_type": "markdown",
   "metadata": {},
   "source": [
    "## Шаг 1. Откройте файл с данными и изучите общую информацию"
   ]
  },
  {
   "cell_type": "code",
   "execution_count": 1,
   "metadata": {},
   "outputs": [],
   "source": [
    "import pandas as pd\n",
    "from pymystem3 import Mystem\n",
    "from nltk.stem import SnowballStemmer \n",
    "from collections import Counter\n",
    "\n"
   ]
  },
  {
   "cell_type": "code",
   "execution_count": 2,
   "metadata": {
    "scrolled": true
   },
   "outputs": [],
   "source": [
    "customer_table = pd.read_csv('/datasets/data.csv')\n"
   ]
  },
  {
   "cell_type": "code",
   "execution_count": 3,
   "metadata": {},
   "outputs": [
    {
     "data": {
      "text/html": [
       "<div>\n",
       "<style scoped>\n",
       "    .dataframe tbody tr th:only-of-type {\n",
       "        vertical-align: middle;\n",
       "    }\n",
       "\n",
       "    .dataframe tbody tr th {\n",
       "        vertical-align: top;\n",
       "    }\n",
       "\n",
       "    .dataframe thead th {\n",
       "        text-align: right;\n",
       "    }\n",
       "</style>\n",
       "<table border=\"1\" class=\"dataframe\">\n",
       "  <thead>\n",
       "    <tr style=\"text-align: right;\">\n",
       "      <th></th>\n",
       "      <th>children</th>\n",
       "      <th>days_employed</th>\n",
       "      <th>dob_years</th>\n",
       "      <th>education</th>\n",
       "      <th>education_id</th>\n",
       "      <th>family_status</th>\n",
       "      <th>family_status_id</th>\n",
       "      <th>gender</th>\n",
       "      <th>income_type</th>\n",
       "      <th>debt</th>\n",
       "      <th>total_income</th>\n",
       "      <th>purpose</th>\n",
       "    </tr>\n",
       "  </thead>\n",
       "  <tbody>\n",
       "    <tr>\n",
       "      <td>0</td>\n",
       "      <td>1</td>\n",
       "      <td>-8437.673028</td>\n",
       "      <td>42</td>\n",
       "      <td>высшее</td>\n",
       "      <td>0</td>\n",
       "      <td>женат / замужем</td>\n",
       "      <td>0</td>\n",
       "      <td>F</td>\n",
       "      <td>сотрудник</td>\n",
       "      <td>0</td>\n",
       "      <td>253875.639453</td>\n",
       "      <td>покупка жилья</td>\n",
       "    </tr>\n",
       "    <tr>\n",
       "      <td>1</td>\n",
       "      <td>1</td>\n",
       "      <td>-4024.803754</td>\n",
       "      <td>36</td>\n",
       "      <td>среднее</td>\n",
       "      <td>1</td>\n",
       "      <td>женат / замужем</td>\n",
       "      <td>0</td>\n",
       "      <td>F</td>\n",
       "      <td>сотрудник</td>\n",
       "      <td>0</td>\n",
       "      <td>112080.014102</td>\n",
       "      <td>приобретение автомобиля</td>\n",
       "    </tr>\n",
       "    <tr>\n",
       "      <td>2</td>\n",
       "      <td>0</td>\n",
       "      <td>-5623.422610</td>\n",
       "      <td>33</td>\n",
       "      <td>Среднее</td>\n",
       "      <td>1</td>\n",
       "      <td>женат / замужем</td>\n",
       "      <td>0</td>\n",
       "      <td>M</td>\n",
       "      <td>сотрудник</td>\n",
       "      <td>0</td>\n",
       "      <td>145885.952297</td>\n",
       "      <td>покупка жилья</td>\n",
       "    </tr>\n",
       "    <tr>\n",
       "      <td>3</td>\n",
       "      <td>3</td>\n",
       "      <td>-4124.747207</td>\n",
       "      <td>32</td>\n",
       "      <td>среднее</td>\n",
       "      <td>1</td>\n",
       "      <td>женат / замужем</td>\n",
       "      <td>0</td>\n",
       "      <td>M</td>\n",
       "      <td>сотрудник</td>\n",
       "      <td>0</td>\n",
       "      <td>267628.550329</td>\n",
       "      <td>дополнительное образование</td>\n",
       "    </tr>\n",
       "    <tr>\n",
       "      <td>4</td>\n",
       "      <td>0</td>\n",
       "      <td>340266.072047</td>\n",
       "      <td>53</td>\n",
       "      <td>среднее</td>\n",
       "      <td>1</td>\n",
       "      <td>гражданский брак</td>\n",
       "      <td>1</td>\n",
       "      <td>F</td>\n",
       "      <td>пенсионер</td>\n",
       "      <td>0</td>\n",
       "      <td>158616.077870</td>\n",
       "      <td>сыграть свадьбу</td>\n",
       "    </tr>\n",
       "    <tr>\n",
       "      <td>5</td>\n",
       "      <td>0</td>\n",
       "      <td>-926.185831</td>\n",
       "      <td>27</td>\n",
       "      <td>высшее</td>\n",
       "      <td>0</td>\n",
       "      <td>гражданский брак</td>\n",
       "      <td>1</td>\n",
       "      <td>M</td>\n",
       "      <td>компаньон</td>\n",
       "      <td>0</td>\n",
       "      <td>255763.565419</td>\n",
       "      <td>покупка жилья</td>\n",
       "    </tr>\n",
       "    <tr>\n",
       "      <td>6</td>\n",
       "      <td>0</td>\n",
       "      <td>-2879.202052</td>\n",
       "      <td>43</td>\n",
       "      <td>высшее</td>\n",
       "      <td>0</td>\n",
       "      <td>женат / замужем</td>\n",
       "      <td>0</td>\n",
       "      <td>F</td>\n",
       "      <td>компаньон</td>\n",
       "      <td>0</td>\n",
       "      <td>240525.971920</td>\n",
       "      <td>операции с жильем</td>\n",
       "    </tr>\n",
       "    <tr>\n",
       "      <td>7</td>\n",
       "      <td>0</td>\n",
       "      <td>-152.779569</td>\n",
       "      <td>50</td>\n",
       "      <td>СРЕДНЕЕ</td>\n",
       "      <td>1</td>\n",
       "      <td>женат / замужем</td>\n",
       "      <td>0</td>\n",
       "      <td>M</td>\n",
       "      <td>сотрудник</td>\n",
       "      <td>0</td>\n",
       "      <td>135823.934197</td>\n",
       "      <td>образование</td>\n",
       "    </tr>\n",
       "    <tr>\n",
       "      <td>8</td>\n",
       "      <td>2</td>\n",
       "      <td>-6929.865299</td>\n",
       "      <td>35</td>\n",
       "      <td>ВЫСШЕЕ</td>\n",
       "      <td>0</td>\n",
       "      <td>гражданский брак</td>\n",
       "      <td>1</td>\n",
       "      <td>F</td>\n",
       "      <td>сотрудник</td>\n",
       "      <td>0</td>\n",
       "      <td>95856.832424</td>\n",
       "      <td>на проведение свадьбы</td>\n",
       "    </tr>\n",
       "    <tr>\n",
       "      <td>9</td>\n",
       "      <td>0</td>\n",
       "      <td>-2188.756445</td>\n",
       "      <td>41</td>\n",
       "      <td>среднее</td>\n",
       "      <td>1</td>\n",
       "      <td>женат / замужем</td>\n",
       "      <td>0</td>\n",
       "      <td>M</td>\n",
       "      <td>сотрудник</td>\n",
       "      <td>0</td>\n",
       "      <td>144425.938277</td>\n",
       "      <td>покупка жилья для семьи</td>\n",
       "    </tr>\n",
       "    <tr>\n",
       "      <td>10</td>\n",
       "      <td>2</td>\n",
       "      <td>-4171.483647</td>\n",
       "      <td>36</td>\n",
       "      <td>высшее</td>\n",
       "      <td>0</td>\n",
       "      <td>женат / замужем</td>\n",
       "      <td>0</td>\n",
       "      <td>M</td>\n",
       "      <td>компаньон</td>\n",
       "      <td>0</td>\n",
       "      <td>113943.491460</td>\n",
       "      <td>покупка недвижимости</td>\n",
       "    </tr>\n",
       "    <tr>\n",
       "      <td>11</td>\n",
       "      <td>0</td>\n",
       "      <td>-792.701887</td>\n",
       "      <td>40</td>\n",
       "      <td>среднее</td>\n",
       "      <td>1</td>\n",
       "      <td>женат / замужем</td>\n",
       "      <td>0</td>\n",
       "      <td>F</td>\n",
       "      <td>сотрудник</td>\n",
       "      <td>0</td>\n",
       "      <td>77069.234271</td>\n",
       "      <td>покупка коммерческой недвижимости</td>\n",
       "    </tr>\n",
       "    <tr>\n",
       "      <td>12</td>\n",
       "      <td>0</td>\n",
       "      <td>NaN</td>\n",
       "      <td>65</td>\n",
       "      <td>среднее</td>\n",
       "      <td>1</td>\n",
       "      <td>гражданский брак</td>\n",
       "      <td>1</td>\n",
       "      <td>M</td>\n",
       "      <td>пенсионер</td>\n",
       "      <td>0</td>\n",
       "      <td>NaN</td>\n",
       "      <td>сыграть свадьбу</td>\n",
       "    </tr>\n",
       "    <tr>\n",
       "      <td>13</td>\n",
       "      <td>0</td>\n",
       "      <td>-1846.641941</td>\n",
       "      <td>54</td>\n",
       "      <td>неоконченное высшее</td>\n",
       "      <td>2</td>\n",
       "      <td>женат / замужем</td>\n",
       "      <td>0</td>\n",
       "      <td>F</td>\n",
       "      <td>сотрудник</td>\n",
       "      <td>0</td>\n",
       "      <td>130458.228857</td>\n",
       "      <td>приобретение автомобиля</td>\n",
       "    </tr>\n",
       "    <tr>\n",
       "      <td>14</td>\n",
       "      <td>0</td>\n",
       "      <td>-1844.956182</td>\n",
       "      <td>56</td>\n",
       "      <td>высшее</td>\n",
       "      <td>0</td>\n",
       "      <td>гражданский брак</td>\n",
       "      <td>1</td>\n",
       "      <td>F</td>\n",
       "      <td>компаньон</td>\n",
       "      <td>1</td>\n",
       "      <td>165127.911772</td>\n",
       "      <td>покупка жилой недвижимости</td>\n",
       "    </tr>\n",
       "  </tbody>\n",
       "</table>\n",
       "</div>"
      ],
      "text/plain": [
       "    children  days_employed  dob_years            education  education_id  \\\n",
       "0          1   -8437.673028         42               высшее             0   \n",
       "1          1   -4024.803754         36              среднее             1   \n",
       "2          0   -5623.422610         33              Среднее             1   \n",
       "3          3   -4124.747207         32              среднее             1   \n",
       "4          0  340266.072047         53              среднее             1   \n",
       "5          0    -926.185831         27               высшее             0   \n",
       "6          0   -2879.202052         43               высшее             0   \n",
       "7          0    -152.779569         50              СРЕДНЕЕ             1   \n",
       "8          2   -6929.865299         35               ВЫСШЕЕ             0   \n",
       "9          0   -2188.756445         41              среднее             1   \n",
       "10         2   -4171.483647         36               высшее             0   \n",
       "11         0    -792.701887         40              среднее             1   \n",
       "12         0            NaN         65              среднее             1   \n",
       "13         0   -1846.641941         54  неоконченное высшее             2   \n",
       "14         0   -1844.956182         56               высшее             0   \n",
       "\n",
       "       family_status  family_status_id gender income_type  debt  \\\n",
       "0    женат / замужем                 0      F   сотрудник     0   \n",
       "1    женат / замужем                 0      F   сотрудник     0   \n",
       "2    женат / замужем                 0      M   сотрудник     0   \n",
       "3    женат / замужем                 0      M   сотрудник     0   \n",
       "4   гражданский брак                 1      F   пенсионер     0   \n",
       "5   гражданский брак                 1      M   компаньон     0   \n",
       "6    женат / замужем                 0      F   компаньон     0   \n",
       "7    женат / замужем                 0      M   сотрудник     0   \n",
       "8   гражданский брак                 1      F   сотрудник     0   \n",
       "9    женат / замужем                 0      M   сотрудник     0   \n",
       "10   женат / замужем                 0      M   компаньон     0   \n",
       "11   женат / замужем                 0      F   сотрудник     0   \n",
       "12  гражданский брак                 1      M   пенсионер     0   \n",
       "13   женат / замужем                 0      F   сотрудник     0   \n",
       "14  гражданский брак                 1      F   компаньон     1   \n",
       "\n",
       "     total_income                            purpose  \n",
       "0   253875.639453                      покупка жилья  \n",
       "1   112080.014102            приобретение автомобиля  \n",
       "2   145885.952297                      покупка жилья  \n",
       "3   267628.550329         дополнительное образование  \n",
       "4   158616.077870                    сыграть свадьбу  \n",
       "5   255763.565419                      покупка жилья  \n",
       "6   240525.971920                  операции с жильем  \n",
       "7   135823.934197                        образование  \n",
       "8    95856.832424              на проведение свадьбы  \n",
       "9   144425.938277            покупка жилья для семьи  \n",
       "10  113943.491460               покупка недвижимости  \n",
       "11   77069.234271  покупка коммерческой недвижимости  \n",
       "12            NaN                    сыграть свадьбу  \n",
       "13  130458.228857            приобретение автомобиля  \n",
       "14  165127.911772         покупка жилой недвижимости  "
      ]
     },
     "execution_count": 3,
     "metadata": {},
     "output_type": "execute_result"
    }
   ],
   "source": [
    "customer_table.head(15) "
   ]
  },
  {
   "cell_type": "code",
   "execution_count": 4,
   "metadata": {},
   "outputs": [
    {
     "name": "stdout",
     "output_type": "stream",
     "text": [
      "<class 'pandas.core.frame.DataFrame'>\n",
      "RangeIndex: 21525 entries, 0 to 21524\n",
      "Data columns (total 12 columns):\n",
      "children            21525 non-null int64\n",
      "days_employed       19351 non-null float64\n",
      "dob_years           21525 non-null int64\n",
      "education           21525 non-null object\n",
      "education_id        21525 non-null int64\n",
      "family_status       21525 non-null object\n",
      "family_status_id    21525 non-null int64\n",
      "gender              21525 non-null object\n",
      "income_type         21525 non-null object\n",
      "debt                21525 non-null int64\n",
      "total_income        19351 non-null float64\n",
      "purpose             21525 non-null object\n",
      "dtypes: float64(2), int64(5), object(5)\n",
      "memory usage: 2.0+ MB\n"
     ]
    }
   ],
   "source": [
    "customer_table.info() #распечатаем общую информацию о таблице"
   ]
  },
  {
   "cell_type": "markdown",
   "metadata": {},
   "source": [
    "**Вывод**"
   ]
  },
  {
   "cell_type": "markdown",
   "metadata": {},
   "source": [
    "1. На данном этапе смущают отрицательные значения в столбце days_employed. Возможно это просто ошибка и их можно перезаписать по модулю.\n",
    "\n",
    "2. В столбцах, total_income и days_employed имеются отсутствующие значения. Можно рассмотреть вариант замены по среднему значению группы или удаление строк с отсутствующими значениями в целом, если она не повлияет на результаты исследования.\n",
    "\n",
    "3. В столбце education одинаковые значения написаны разными регистрами, нужно привести к одному виду.\n",
    "\n",
    "4. Значения в столбце days_employed и total_income можно привести к целочисленному типу, это удобно для вычислений и наглядности.\n",
    "\n",
    "5. В столбце purpose содержатся похожие друг на друга цели, но выраженные разными словами."
   ]
  },
  {
   "cell_type": "markdown",
   "metadata": {},
   "source": [
    "## Шаг 2. Предобработка данных"
   ]
  },
  {
   "cell_type": "markdown",
   "metadata": {},
   "source": [
    "### Обработка пропусков"
   ]
  },
  {
   "cell_type": "code",
   "execution_count": 5,
   "metadata": {
    "scrolled": true
   },
   "outputs": [
    {
     "data": {
      "text/html": [
       "<div>\n",
       "<style scoped>\n",
       "    .dataframe tbody tr th:only-of-type {\n",
       "        vertical-align: middle;\n",
       "    }\n",
       "\n",
       "    .dataframe tbody tr th {\n",
       "        vertical-align: top;\n",
       "    }\n",
       "\n",
       "    .dataframe thead th {\n",
       "        text-align: right;\n",
       "    }\n",
       "</style>\n",
       "<table border=\"1\" class=\"dataframe\">\n",
       "  <thead>\n",
       "    <tr style=\"text-align: right;\">\n",
       "      <th></th>\n",
       "      <th>children</th>\n",
       "      <th>days_employed</th>\n",
       "      <th>dob_years</th>\n",
       "      <th>education</th>\n",
       "      <th>education_id</th>\n",
       "      <th>family_status</th>\n",
       "      <th>family_status_id</th>\n",
       "      <th>gender</th>\n",
       "      <th>income_type</th>\n",
       "      <th>debt</th>\n",
       "      <th>total_income</th>\n",
       "      <th>purpose</th>\n",
       "    </tr>\n",
       "  </thead>\n",
       "  <tbody>\n",
       "    <tr>\n",
       "      <td>0</td>\n",
       "      <td>1</td>\n",
       "      <td>8437.673028</td>\n",
       "      <td>42</td>\n",
       "      <td>высшее</td>\n",
       "      <td>0</td>\n",
       "      <td>женат / замужем</td>\n",
       "      <td>0</td>\n",
       "      <td>F</td>\n",
       "      <td>сотрудник</td>\n",
       "      <td>0</td>\n",
       "      <td>253875.639453</td>\n",
       "      <td>покупка жилья</td>\n",
       "    </tr>\n",
       "    <tr>\n",
       "      <td>1</td>\n",
       "      <td>1</td>\n",
       "      <td>4024.803754</td>\n",
       "      <td>36</td>\n",
       "      <td>среднее</td>\n",
       "      <td>1</td>\n",
       "      <td>женат / замужем</td>\n",
       "      <td>0</td>\n",
       "      <td>F</td>\n",
       "      <td>сотрудник</td>\n",
       "      <td>0</td>\n",
       "      <td>112080.014102</td>\n",
       "      <td>приобретение автомобиля</td>\n",
       "    </tr>\n",
       "    <tr>\n",
       "      <td>2</td>\n",
       "      <td>0</td>\n",
       "      <td>5623.422610</td>\n",
       "      <td>33</td>\n",
       "      <td>Среднее</td>\n",
       "      <td>1</td>\n",
       "      <td>женат / замужем</td>\n",
       "      <td>0</td>\n",
       "      <td>M</td>\n",
       "      <td>сотрудник</td>\n",
       "      <td>0</td>\n",
       "      <td>145885.952297</td>\n",
       "      <td>покупка жилья</td>\n",
       "    </tr>\n",
       "    <tr>\n",
       "      <td>3</td>\n",
       "      <td>3</td>\n",
       "      <td>4124.747207</td>\n",
       "      <td>32</td>\n",
       "      <td>среднее</td>\n",
       "      <td>1</td>\n",
       "      <td>женат / замужем</td>\n",
       "      <td>0</td>\n",
       "      <td>M</td>\n",
       "      <td>сотрудник</td>\n",
       "      <td>0</td>\n",
       "      <td>267628.550329</td>\n",
       "      <td>дополнительное образование</td>\n",
       "    </tr>\n",
       "    <tr>\n",
       "      <td>4</td>\n",
       "      <td>0</td>\n",
       "      <td>340266.072047</td>\n",
       "      <td>53</td>\n",
       "      <td>среднее</td>\n",
       "      <td>1</td>\n",
       "      <td>гражданский брак</td>\n",
       "      <td>1</td>\n",
       "      <td>F</td>\n",
       "      <td>пенсионер</td>\n",
       "      <td>0</td>\n",
       "      <td>158616.077870</td>\n",
       "      <td>сыграть свадьбу</td>\n",
       "    </tr>\n",
       "    <tr>\n",
       "      <td>5</td>\n",
       "      <td>0</td>\n",
       "      <td>926.185831</td>\n",
       "      <td>27</td>\n",
       "      <td>высшее</td>\n",
       "      <td>0</td>\n",
       "      <td>гражданский брак</td>\n",
       "      <td>1</td>\n",
       "      <td>M</td>\n",
       "      <td>компаньон</td>\n",
       "      <td>0</td>\n",
       "      <td>255763.565419</td>\n",
       "      <td>покупка жилья</td>\n",
       "    </tr>\n",
       "    <tr>\n",
       "      <td>6</td>\n",
       "      <td>0</td>\n",
       "      <td>2879.202052</td>\n",
       "      <td>43</td>\n",
       "      <td>высшее</td>\n",
       "      <td>0</td>\n",
       "      <td>женат / замужем</td>\n",
       "      <td>0</td>\n",
       "      <td>F</td>\n",
       "      <td>компаньон</td>\n",
       "      <td>0</td>\n",
       "      <td>240525.971920</td>\n",
       "      <td>операции с жильем</td>\n",
       "    </tr>\n",
       "    <tr>\n",
       "      <td>7</td>\n",
       "      <td>0</td>\n",
       "      <td>152.779569</td>\n",
       "      <td>50</td>\n",
       "      <td>СРЕДНЕЕ</td>\n",
       "      <td>1</td>\n",
       "      <td>женат / замужем</td>\n",
       "      <td>0</td>\n",
       "      <td>M</td>\n",
       "      <td>сотрудник</td>\n",
       "      <td>0</td>\n",
       "      <td>135823.934197</td>\n",
       "      <td>образование</td>\n",
       "    </tr>\n",
       "    <tr>\n",
       "      <td>8</td>\n",
       "      <td>2</td>\n",
       "      <td>6929.865299</td>\n",
       "      <td>35</td>\n",
       "      <td>ВЫСШЕЕ</td>\n",
       "      <td>0</td>\n",
       "      <td>гражданский брак</td>\n",
       "      <td>1</td>\n",
       "      <td>F</td>\n",
       "      <td>сотрудник</td>\n",
       "      <td>0</td>\n",
       "      <td>95856.832424</td>\n",
       "      <td>на проведение свадьбы</td>\n",
       "    </tr>\n",
       "    <tr>\n",
       "      <td>9</td>\n",
       "      <td>0</td>\n",
       "      <td>2188.756445</td>\n",
       "      <td>41</td>\n",
       "      <td>среднее</td>\n",
       "      <td>1</td>\n",
       "      <td>женат / замужем</td>\n",
       "      <td>0</td>\n",
       "      <td>M</td>\n",
       "      <td>сотрудник</td>\n",
       "      <td>0</td>\n",
       "      <td>144425.938277</td>\n",
       "      <td>покупка жилья для семьи</td>\n",
       "    </tr>\n",
       "    <tr>\n",
       "      <td>10</td>\n",
       "      <td>2</td>\n",
       "      <td>4171.483647</td>\n",
       "      <td>36</td>\n",
       "      <td>высшее</td>\n",
       "      <td>0</td>\n",
       "      <td>женат / замужем</td>\n",
       "      <td>0</td>\n",
       "      <td>M</td>\n",
       "      <td>компаньон</td>\n",
       "      <td>0</td>\n",
       "      <td>113943.491460</td>\n",
       "      <td>покупка недвижимости</td>\n",
       "    </tr>\n",
       "    <tr>\n",
       "      <td>11</td>\n",
       "      <td>0</td>\n",
       "      <td>792.701887</td>\n",
       "      <td>40</td>\n",
       "      <td>среднее</td>\n",
       "      <td>1</td>\n",
       "      <td>женат / замужем</td>\n",
       "      <td>0</td>\n",
       "      <td>F</td>\n",
       "      <td>сотрудник</td>\n",
       "      <td>0</td>\n",
       "      <td>77069.234271</td>\n",
       "      <td>покупка коммерческой недвижимости</td>\n",
       "    </tr>\n",
       "    <tr>\n",
       "      <td>12</td>\n",
       "      <td>0</td>\n",
       "      <td>NaN</td>\n",
       "      <td>65</td>\n",
       "      <td>среднее</td>\n",
       "      <td>1</td>\n",
       "      <td>гражданский брак</td>\n",
       "      <td>1</td>\n",
       "      <td>M</td>\n",
       "      <td>пенсионер</td>\n",
       "      <td>0</td>\n",
       "      <td>NaN</td>\n",
       "      <td>сыграть свадьбу</td>\n",
       "    </tr>\n",
       "    <tr>\n",
       "      <td>13</td>\n",
       "      <td>0</td>\n",
       "      <td>1846.641941</td>\n",
       "      <td>54</td>\n",
       "      <td>неоконченное высшее</td>\n",
       "      <td>2</td>\n",
       "      <td>женат / замужем</td>\n",
       "      <td>0</td>\n",
       "      <td>F</td>\n",
       "      <td>сотрудник</td>\n",
       "      <td>0</td>\n",
       "      <td>130458.228857</td>\n",
       "      <td>приобретение автомобиля</td>\n",
       "    </tr>\n",
       "    <tr>\n",
       "      <td>14</td>\n",
       "      <td>0</td>\n",
       "      <td>1844.956182</td>\n",
       "      <td>56</td>\n",
       "      <td>высшее</td>\n",
       "      <td>0</td>\n",
       "      <td>гражданский брак</td>\n",
       "      <td>1</td>\n",
       "      <td>F</td>\n",
       "      <td>компаньон</td>\n",
       "      <td>1</td>\n",
       "      <td>165127.911772</td>\n",
       "      <td>покупка жилой недвижимости</td>\n",
       "    </tr>\n",
       "  </tbody>\n",
       "</table>\n",
       "</div>"
      ],
      "text/plain": [
       "    children  days_employed  dob_years            education  education_id  \\\n",
       "0          1    8437.673028         42               высшее             0   \n",
       "1          1    4024.803754         36              среднее             1   \n",
       "2          0    5623.422610         33              Среднее             1   \n",
       "3          3    4124.747207         32              среднее             1   \n",
       "4          0  340266.072047         53              среднее             1   \n",
       "5          0     926.185831         27               высшее             0   \n",
       "6          0    2879.202052         43               высшее             0   \n",
       "7          0     152.779569         50              СРЕДНЕЕ             1   \n",
       "8          2    6929.865299         35               ВЫСШЕЕ             0   \n",
       "9          0    2188.756445         41              среднее             1   \n",
       "10         2    4171.483647         36               высшее             0   \n",
       "11         0     792.701887         40              среднее             1   \n",
       "12         0            NaN         65              среднее             1   \n",
       "13         0    1846.641941         54  неоконченное высшее             2   \n",
       "14         0    1844.956182         56               высшее             0   \n",
       "\n",
       "       family_status  family_status_id gender income_type  debt  \\\n",
       "0    женат / замужем                 0      F   сотрудник     0   \n",
       "1    женат / замужем                 0      F   сотрудник     0   \n",
       "2    женат / замужем                 0      M   сотрудник     0   \n",
       "3    женат / замужем                 0      M   сотрудник     0   \n",
       "4   гражданский брак                 1      F   пенсионер     0   \n",
       "5   гражданский брак                 1      M   компаньон     0   \n",
       "6    женат / замужем                 0      F   компаньон     0   \n",
       "7    женат / замужем                 0      M   сотрудник     0   \n",
       "8   гражданский брак                 1      F   сотрудник     0   \n",
       "9    женат / замужем                 0      M   сотрудник     0   \n",
       "10   женат / замужем                 0      M   компаньон     0   \n",
       "11   женат / замужем                 0      F   сотрудник     0   \n",
       "12  гражданский брак                 1      M   пенсионер     0   \n",
       "13   женат / замужем                 0      F   сотрудник     0   \n",
       "14  гражданский брак                 1      F   компаньон     1   \n",
       "\n",
       "     total_income                            purpose  \n",
       "0   253875.639453                      покупка жилья  \n",
       "1   112080.014102            приобретение автомобиля  \n",
       "2   145885.952297                      покупка жилья  \n",
       "3   267628.550329         дополнительное образование  \n",
       "4   158616.077870                    сыграть свадьбу  \n",
       "5   255763.565419                      покупка жилья  \n",
       "6   240525.971920                  операции с жильем  \n",
       "7   135823.934197                        образование  \n",
       "8    95856.832424              на проведение свадьбы  \n",
       "9   144425.938277            покупка жилья для семьи  \n",
       "10  113943.491460               покупка недвижимости  \n",
       "11   77069.234271  покупка коммерческой недвижимости  \n",
       "12            NaN                    сыграть свадьбу  \n",
       "13  130458.228857            приобретение автомобиля  \n",
       "14  165127.911772         покупка жилой недвижимости  "
      ]
     },
     "execution_count": 5,
     "metadata": {},
     "output_type": "execute_result"
    }
   ],
   "source": [
    "customer_table['days_employed'] = customer_table['days_employed'].abs() \n",
    "#возьмем значения по модулю\n",
    "customer_table.head(15)  "
   ]
  },
  {
   "cell_type": "markdown",
   "metadata": {},
   "source": [
    "Значения заменились на положительные, теперь переходим к заполнению пропусков."
   ]
  },
  {
   "cell_type": "code",
   "execution_count": 6,
   "metadata": {},
   "outputs": [],
   "source": [
    "#заменим пропущенные значения days_employed средним значением по типам занятости\n",
    "customer_table['days_employed'] = customer_table.groupby('income_type')['days_employed'].apply(lambda x: x.fillna(x.mean())) \n",
    "#заменим пропущенные значения total_income средним значением ежемесячного дохода по группам\n",
    "customer_table['total_income'] = customer_table.groupby('income_type')['total_income'].apply(lambda x: x.fillna(x.mean()))\n"
   ]
  },
  {
   "cell_type": "code",
   "execution_count": 7,
   "metadata": {},
   "outputs": [
    {
     "name": "stdout",
     "output_type": "stream",
     "text": [
      "<class 'pandas.core.frame.DataFrame'>\n",
      "RangeIndex: 21525 entries, 0 to 21524\n",
      "Data columns (total 12 columns):\n",
      "children            21525 non-null int64\n",
      "days_employed       21525 non-null float64\n",
      "dob_years           21525 non-null int64\n",
      "education           21525 non-null object\n",
      "education_id        21525 non-null int64\n",
      "family_status       21525 non-null object\n",
      "family_status_id    21525 non-null int64\n",
      "gender              21525 non-null object\n",
      "income_type         21525 non-null object\n",
      "debt                21525 non-null int64\n",
      "total_income        21525 non-null float64\n",
      "purpose             21525 non-null object\n",
      "dtypes: float64(2), int64(5), object(5)\n",
      "memory usage: 2.0+ MB\n"
     ]
    }
   ],
   "source": [
    "customer_table.info() #посмотрим изменилась ли общая информация в таблице и восстановились ли пропушенные значения"
   ]
  },
  {
   "cell_type": "code",
   "execution_count": 8,
   "metadata": {
    "scrolled": true
   },
   "outputs": [
    {
     "data": {
      "text/html": [
       "<div>\n",
       "<style scoped>\n",
       "    .dataframe tbody tr th:only-of-type {\n",
       "        vertical-align: middle;\n",
       "    }\n",
       "\n",
       "    .dataframe tbody tr th {\n",
       "        vertical-align: top;\n",
       "    }\n",
       "\n",
       "    .dataframe thead th {\n",
       "        text-align: right;\n",
       "    }\n",
       "</style>\n",
       "<table border=\"1\" class=\"dataframe\">\n",
       "  <thead>\n",
       "    <tr style=\"text-align: right;\">\n",
       "      <th></th>\n",
       "      <th>children</th>\n",
       "      <th>days_employed</th>\n",
       "      <th>dob_years</th>\n",
       "      <th>education</th>\n",
       "      <th>education_id</th>\n",
       "      <th>family_status</th>\n",
       "      <th>family_status_id</th>\n",
       "      <th>gender</th>\n",
       "      <th>income_type</th>\n",
       "      <th>debt</th>\n",
       "      <th>total_income</th>\n",
       "      <th>purpose</th>\n",
       "    </tr>\n",
       "  </thead>\n",
       "  <tbody>\n",
       "    <tr>\n",
       "      <td>0</td>\n",
       "      <td>1</td>\n",
       "      <td>8437.673028</td>\n",
       "      <td>42</td>\n",
       "      <td>высшее</td>\n",
       "      <td>0</td>\n",
       "      <td>женат / замужем</td>\n",
       "      <td>0</td>\n",
       "      <td>F</td>\n",
       "      <td>сотрудник</td>\n",
       "      <td>0</td>\n",
       "      <td>253875.639453</td>\n",
       "      <td>покупка жилья</td>\n",
       "    </tr>\n",
       "    <tr>\n",
       "      <td>1</td>\n",
       "      <td>1</td>\n",
       "      <td>4024.803754</td>\n",
       "      <td>36</td>\n",
       "      <td>среднее</td>\n",
       "      <td>1</td>\n",
       "      <td>женат / замужем</td>\n",
       "      <td>0</td>\n",
       "      <td>F</td>\n",
       "      <td>сотрудник</td>\n",
       "      <td>0</td>\n",
       "      <td>112080.014102</td>\n",
       "      <td>приобретение автомобиля</td>\n",
       "    </tr>\n",
       "    <tr>\n",
       "      <td>2</td>\n",
       "      <td>0</td>\n",
       "      <td>5623.422610</td>\n",
       "      <td>33</td>\n",
       "      <td>Среднее</td>\n",
       "      <td>1</td>\n",
       "      <td>женат / замужем</td>\n",
       "      <td>0</td>\n",
       "      <td>M</td>\n",
       "      <td>сотрудник</td>\n",
       "      <td>0</td>\n",
       "      <td>145885.952297</td>\n",
       "      <td>покупка жилья</td>\n",
       "    </tr>\n",
       "    <tr>\n",
       "      <td>3</td>\n",
       "      <td>3</td>\n",
       "      <td>4124.747207</td>\n",
       "      <td>32</td>\n",
       "      <td>среднее</td>\n",
       "      <td>1</td>\n",
       "      <td>женат / замужем</td>\n",
       "      <td>0</td>\n",
       "      <td>M</td>\n",
       "      <td>сотрудник</td>\n",
       "      <td>0</td>\n",
       "      <td>267628.550329</td>\n",
       "      <td>дополнительное образование</td>\n",
       "    </tr>\n",
       "    <tr>\n",
       "      <td>4</td>\n",
       "      <td>0</td>\n",
       "      <td>340266.072047</td>\n",
       "      <td>53</td>\n",
       "      <td>среднее</td>\n",
       "      <td>1</td>\n",
       "      <td>гражданский брак</td>\n",
       "      <td>1</td>\n",
       "      <td>F</td>\n",
       "      <td>пенсионер</td>\n",
       "      <td>0</td>\n",
       "      <td>158616.077870</td>\n",
       "      <td>сыграть свадьбу</td>\n",
       "    </tr>\n",
       "    <tr>\n",
       "      <td>5</td>\n",
       "      <td>0</td>\n",
       "      <td>926.185831</td>\n",
       "      <td>27</td>\n",
       "      <td>высшее</td>\n",
       "      <td>0</td>\n",
       "      <td>гражданский брак</td>\n",
       "      <td>1</td>\n",
       "      <td>M</td>\n",
       "      <td>компаньон</td>\n",
       "      <td>0</td>\n",
       "      <td>255763.565419</td>\n",
       "      <td>покупка жилья</td>\n",
       "    </tr>\n",
       "    <tr>\n",
       "      <td>6</td>\n",
       "      <td>0</td>\n",
       "      <td>2879.202052</td>\n",
       "      <td>43</td>\n",
       "      <td>высшее</td>\n",
       "      <td>0</td>\n",
       "      <td>женат / замужем</td>\n",
       "      <td>0</td>\n",
       "      <td>F</td>\n",
       "      <td>компаньон</td>\n",
       "      <td>0</td>\n",
       "      <td>240525.971920</td>\n",
       "      <td>операции с жильем</td>\n",
       "    </tr>\n",
       "    <tr>\n",
       "      <td>7</td>\n",
       "      <td>0</td>\n",
       "      <td>152.779569</td>\n",
       "      <td>50</td>\n",
       "      <td>СРЕДНЕЕ</td>\n",
       "      <td>1</td>\n",
       "      <td>женат / замужем</td>\n",
       "      <td>0</td>\n",
       "      <td>M</td>\n",
       "      <td>сотрудник</td>\n",
       "      <td>0</td>\n",
       "      <td>135823.934197</td>\n",
       "      <td>образование</td>\n",
       "    </tr>\n",
       "    <tr>\n",
       "      <td>8</td>\n",
       "      <td>2</td>\n",
       "      <td>6929.865299</td>\n",
       "      <td>35</td>\n",
       "      <td>ВЫСШЕЕ</td>\n",
       "      <td>0</td>\n",
       "      <td>гражданский брак</td>\n",
       "      <td>1</td>\n",
       "      <td>F</td>\n",
       "      <td>сотрудник</td>\n",
       "      <td>0</td>\n",
       "      <td>95856.832424</td>\n",
       "      <td>на проведение свадьбы</td>\n",
       "    </tr>\n",
       "    <tr>\n",
       "      <td>9</td>\n",
       "      <td>0</td>\n",
       "      <td>2188.756445</td>\n",
       "      <td>41</td>\n",
       "      <td>среднее</td>\n",
       "      <td>1</td>\n",
       "      <td>женат / замужем</td>\n",
       "      <td>0</td>\n",
       "      <td>M</td>\n",
       "      <td>сотрудник</td>\n",
       "      <td>0</td>\n",
       "      <td>144425.938277</td>\n",
       "      <td>покупка жилья для семьи</td>\n",
       "    </tr>\n",
       "    <tr>\n",
       "      <td>10</td>\n",
       "      <td>2</td>\n",
       "      <td>4171.483647</td>\n",
       "      <td>36</td>\n",
       "      <td>высшее</td>\n",
       "      <td>0</td>\n",
       "      <td>женат / замужем</td>\n",
       "      <td>0</td>\n",
       "      <td>M</td>\n",
       "      <td>компаньон</td>\n",
       "      <td>0</td>\n",
       "      <td>113943.491460</td>\n",
       "      <td>покупка недвижимости</td>\n",
       "    </tr>\n",
       "    <tr>\n",
       "      <td>11</td>\n",
       "      <td>0</td>\n",
       "      <td>792.701887</td>\n",
       "      <td>40</td>\n",
       "      <td>среднее</td>\n",
       "      <td>1</td>\n",
       "      <td>женат / замужем</td>\n",
       "      <td>0</td>\n",
       "      <td>F</td>\n",
       "      <td>сотрудник</td>\n",
       "      <td>0</td>\n",
       "      <td>77069.234271</td>\n",
       "      <td>покупка коммерческой недвижимости</td>\n",
       "    </tr>\n",
       "    <tr>\n",
       "      <td>12</td>\n",
       "      <td>0</td>\n",
       "      <td>365003.491245</td>\n",
       "      <td>65</td>\n",
       "      <td>среднее</td>\n",
       "      <td>1</td>\n",
       "      <td>гражданский брак</td>\n",
       "      <td>1</td>\n",
       "      <td>M</td>\n",
       "      <td>пенсионер</td>\n",
       "      <td>0</td>\n",
       "      <td>137127.465690</td>\n",
       "      <td>сыграть свадьбу</td>\n",
       "    </tr>\n",
       "    <tr>\n",
       "      <td>13</td>\n",
       "      <td>0</td>\n",
       "      <td>1846.641941</td>\n",
       "      <td>54</td>\n",
       "      <td>неоконченное высшее</td>\n",
       "      <td>2</td>\n",
       "      <td>женат / замужем</td>\n",
       "      <td>0</td>\n",
       "      <td>F</td>\n",
       "      <td>сотрудник</td>\n",
       "      <td>0</td>\n",
       "      <td>130458.228857</td>\n",
       "      <td>приобретение автомобиля</td>\n",
       "    </tr>\n",
       "    <tr>\n",
       "      <td>14</td>\n",
       "      <td>0</td>\n",
       "      <td>1844.956182</td>\n",
       "      <td>56</td>\n",
       "      <td>высшее</td>\n",
       "      <td>0</td>\n",
       "      <td>гражданский брак</td>\n",
       "      <td>1</td>\n",
       "      <td>F</td>\n",
       "      <td>компаньон</td>\n",
       "      <td>1</td>\n",
       "      <td>165127.911772</td>\n",
       "      <td>покупка жилой недвижимости</td>\n",
       "    </tr>\n",
       "  </tbody>\n",
       "</table>\n",
       "</div>"
      ],
      "text/plain": [
       "    children  days_employed  dob_years            education  education_id  \\\n",
       "0          1    8437.673028         42               высшее             0   \n",
       "1          1    4024.803754         36              среднее             1   \n",
       "2          0    5623.422610         33              Среднее             1   \n",
       "3          3    4124.747207         32              среднее             1   \n",
       "4          0  340266.072047         53              среднее             1   \n",
       "5          0     926.185831         27               высшее             0   \n",
       "6          0    2879.202052         43               высшее             0   \n",
       "7          0     152.779569         50              СРЕДНЕЕ             1   \n",
       "8          2    6929.865299         35               ВЫСШЕЕ             0   \n",
       "9          0    2188.756445         41              среднее             1   \n",
       "10         2    4171.483647         36               высшее             0   \n",
       "11         0     792.701887         40              среднее             1   \n",
       "12         0  365003.491245         65              среднее             1   \n",
       "13         0    1846.641941         54  неоконченное высшее             2   \n",
       "14         0    1844.956182         56               высшее             0   \n",
       "\n",
       "       family_status  family_status_id gender income_type  debt  \\\n",
       "0    женат / замужем                 0      F   сотрудник     0   \n",
       "1    женат / замужем                 0      F   сотрудник     0   \n",
       "2    женат / замужем                 0      M   сотрудник     0   \n",
       "3    женат / замужем                 0      M   сотрудник     0   \n",
       "4   гражданский брак                 1      F   пенсионер     0   \n",
       "5   гражданский брак                 1      M   компаньон     0   \n",
       "6    женат / замужем                 0      F   компаньон     0   \n",
       "7    женат / замужем                 0      M   сотрудник     0   \n",
       "8   гражданский брак                 1      F   сотрудник     0   \n",
       "9    женат / замужем                 0      M   сотрудник     0   \n",
       "10   женат / замужем                 0      M   компаньон     0   \n",
       "11   женат / замужем                 0      F   сотрудник     0   \n",
       "12  гражданский брак                 1      M   пенсионер     0   \n",
       "13   женат / замужем                 0      F   сотрудник     0   \n",
       "14  гражданский брак                 1      F   компаньон     1   \n",
       "\n",
       "     total_income                            purpose  \n",
       "0   253875.639453                      покупка жилья  \n",
       "1   112080.014102            приобретение автомобиля  \n",
       "2   145885.952297                      покупка жилья  \n",
       "3   267628.550329         дополнительное образование  \n",
       "4   158616.077870                    сыграть свадьбу  \n",
       "5   255763.565419                      покупка жилья  \n",
       "6   240525.971920                  операции с жильем  \n",
       "7   135823.934197                        образование  \n",
       "8    95856.832424              на проведение свадьбы  \n",
       "9   144425.938277            покупка жилья для семьи  \n",
       "10  113943.491460               покупка недвижимости  \n",
       "11   77069.234271  покупка коммерческой недвижимости  \n",
       "12  137127.465690                    сыграть свадьбу  \n",
       "13  130458.228857            приобретение автомобиля  \n",
       "14  165127.911772         покупка жилой недвижимости  "
      ]
     },
     "execution_count": 8,
     "metadata": {},
     "output_type": "execute_result"
    }
   ],
   "source": [
    "customer_table.head(15) #выведем данные для проверки"
   ]
  },
  {
   "cell_type": "markdown",
   "metadata": {},
   "source": [
    "Отсутствующие значения в строках заполнены, теперь приведем столбец education в единый стиль."
   ]
  },
  {
   "cell_type": "code",
   "execution_count": 9,
   "metadata": {},
   "outputs": [
    {
     "data": {
      "text/html": [
       "<div>\n",
       "<style scoped>\n",
       "    .dataframe tbody tr th:only-of-type {\n",
       "        vertical-align: middle;\n",
       "    }\n",
       "\n",
       "    .dataframe tbody tr th {\n",
       "        vertical-align: top;\n",
       "    }\n",
       "\n",
       "    .dataframe thead th {\n",
       "        text-align: right;\n",
       "    }\n",
       "</style>\n",
       "<table border=\"1\" class=\"dataframe\">\n",
       "  <thead>\n",
       "    <tr style=\"text-align: right;\">\n",
       "      <th></th>\n",
       "      <th>children</th>\n",
       "      <th>days_employed</th>\n",
       "      <th>dob_years</th>\n",
       "      <th>education</th>\n",
       "      <th>education_id</th>\n",
       "      <th>family_status</th>\n",
       "      <th>family_status_id</th>\n",
       "      <th>gender</th>\n",
       "      <th>income_type</th>\n",
       "      <th>debt</th>\n",
       "      <th>total_income</th>\n",
       "      <th>purpose</th>\n",
       "    </tr>\n",
       "  </thead>\n",
       "  <tbody>\n",
       "    <tr>\n",
       "      <td>0</td>\n",
       "      <td>1</td>\n",
       "      <td>8437.673028</td>\n",
       "      <td>42</td>\n",
       "      <td>высшее</td>\n",
       "      <td>0</td>\n",
       "      <td>женат / замужем</td>\n",
       "      <td>0</td>\n",
       "      <td>F</td>\n",
       "      <td>сотрудник</td>\n",
       "      <td>0</td>\n",
       "      <td>253875.639453</td>\n",
       "      <td>покупка жилья</td>\n",
       "    </tr>\n",
       "    <tr>\n",
       "      <td>1</td>\n",
       "      <td>1</td>\n",
       "      <td>4024.803754</td>\n",
       "      <td>36</td>\n",
       "      <td>среднее</td>\n",
       "      <td>1</td>\n",
       "      <td>женат / замужем</td>\n",
       "      <td>0</td>\n",
       "      <td>F</td>\n",
       "      <td>сотрудник</td>\n",
       "      <td>0</td>\n",
       "      <td>112080.014102</td>\n",
       "      <td>приобретение автомобиля</td>\n",
       "    </tr>\n",
       "    <tr>\n",
       "      <td>2</td>\n",
       "      <td>0</td>\n",
       "      <td>5623.422610</td>\n",
       "      <td>33</td>\n",
       "      <td>среднее</td>\n",
       "      <td>1</td>\n",
       "      <td>женат / замужем</td>\n",
       "      <td>0</td>\n",
       "      <td>M</td>\n",
       "      <td>сотрудник</td>\n",
       "      <td>0</td>\n",
       "      <td>145885.952297</td>\n",
       "      <td>покупка жилья</td>\n",
       "    </tr>\n",
       "    <tr>\n",
       "      <td>3</td>\n",
       "      <td>3</td>\n",
       "      <td>4124.747207</td>\n",
       "      <td>32</td>\n",
       "      <td>среднее</td>\n",
       "      <td>1</td>\n",
       "      <td>женат / замужем</td>\n",
       "      <td>0</td>\n",
       "      <td>M</td>\n",
       "      <td>сотрудник</td>\n",
       "      <td>0</td>\n",
       "      <td>267628.550329</td>\n",
       "      <td>дополнительное образование</td>\n",
       "    </tr>\n",
       "    <tr>\n",
       "      <td>4</td>\n",
       "      <td>0</td>\n",
       "      <td>340266.072047</td>\n",
       "      <td>53</td>\n",
       "      <td>среднее</td>\n",
       "      <td>1</td>\n",
       "      <td>гражданский брак</td>\n",
       "      <td>1</td>\n",
       "      <td>F</td>\n",
       "      <td>пенсионер</td>\n",
       "      <td>0</td>\n",
       "      <td>158616.077870</td>\n",
       "      <td>сыграть свадьбу</td>\n",
       "    </tr>\n",
       "    <tr>\n",
       "      <td>5</td>\n",
       "      <td>0</td>\n",
       "      <td>926.185831</td>\n",
       "      <td>27</td>\n",
       "      <td>высшее</td>\n",
       "      <td>0</td>\n",
       "      <td>гражданский брак</td>\n",
       "      <td>1</td>\n",
       "      <td>M</td>\n",
       "      <td>компаньон</td>\n",
       "      <td>0</td>\n",
       "      <td>255763.565419</td>\n",
       "      <td>покупка жилья</td>\n",
       "    </tr>\n",
       "    <tr>\n",
       "      <td>6</td>\n",
       "      <td>0</td>\n",
       "      <td>2879.202052</td>\n",
       "      <td>43</td>\n",
       "      <td>высшее</td>\n",
       "      <td>0</td>\n",
       "      <td>женат / замужем</td>\n",
       "      <td>0</td>\n",
       "      <td>F</td>\n",
       "      <td>компаньон</td>\n",
       "      <td>0</td>\n",
       "      <td>240525.971920</td>\n",
       "      <td>операции с жильем</td>\n",
       "    </tr>\n",
       "    <tr>\n",
       "      <td>7</td>\n",
       "      <td>0</td>\n",
       "      <td>152.779569</td>\n",
       "      <td>50</td>\n",
       "      <td>среднее</td>\n",
       "      <td>1</td>\n",
       "      <td>женат / замужем</td>\n",
       "      <td>0</td>\n",
       "      <td>M</td>\n",
       "      <td>сотрудник</td>\n",
       "      <td>0</td>\n",
       "      <td>135823.934197</td>\n",
       "      <td>образование</td>\n",
       "    </tr>\n",
       "    <tr>\n",
       "      <td>8</td>\n",
       "      <td>2</td>\n",
       "      <td>6929.865299</td>\n",
       "      <td>35</td>\n",
       "      <td>высшее</td>\n",
       "      <td>0</td>\n",
       "      <td>гражданский брак</td>\n",
       "      <td>1</td>\n",
       "      <td>F</td>\n",
       "      <td>сотрудник</td>\n",
       "      <td>0</td>\n",
       "      <td>95856.832424</td>\n",
       "      <td>на проведение свадьбы</td>\n",
       "    </tr>\n",
       "    <tr>\n",
       "      <td>9</td>\n",
       "      <td>0</td>\n",
       "      <td>2188.756445</td>\n",
       "      <td>41</td>\n",
       "      <td>среднее</td>\n",
       "      <td>1</td>\n",
       "      <td>женат / замужем</td>\n",
       "      <td>0</td>\n",
       "      <td>M</td>\n",
       "      <td>сотрудник</td>\n",
       "      <td>0</td>\n",
       "      <td>144425.938277</td>\n",
       "      <td>покупка жилья для семьи</td>\n",
       "    </tr>\n",
       "    <tr>\n",
       "      <td>10</td>\n",
       "      <td>2</td>\n",
       "      <td>4171.483647</td>\n",
       "      <td>36</td>\n",
       "      <td>высшее</td>\n",
       "      <td>0</td>\n",
       "      <td>женат / замужем</td>\n",
       "      <td>0</td>\n",
       "      <td>M</td>\n",
       "      <td>компаньон</td>\n",
       "      <td>0</td>\n",
       "      <td>113943.491460</td>\n",
       "      <td>покупка недвижимости</td>\n",
       "    </tr>\n",
       "    <tr>\n",
       "      <td>11</td>\n",
       "      <td>0</td>\n",
       "      <td>792.701887</td>\n",
       "      <td>40</td>\n",
       "      <td>среднее</td>\n",
       "      <td>1</td>\n",
       "      <td>женат / замужем</td>\n",
       "      <td>0</td>\n",
       "      <td>F</td>\n",
       "      <td>сотрудник</td>\n",
       "      <td>0</td>\n",
       "      <td>77069.234271</td>\n",
       "      <td>покупка коммерческой недвижимости</td>\n",
       "    </tr>\n",
       "    <tr>\n",
       "      <td>12</td>\n",
       "      <td>0</td>\n",
       "      <td>365003.491245</td>\n",
       "      <td>65</td>\n",
       "      <td>среднее</td>\n",
       "      <td>1</td>\n",
       "      <td>гражданский брак</td>\n",
       "      <td>1</td>\n",
       "      <td>M</td>\n",
       "      <td>пенсионер</td>\n",
       "      <td>0</td>\n",
       "      <td>137127.465690</td>\n",
       "      <td>сыграть свадьбу</td>\n",
       "    </tr>\n",
       "    <tr>\n",
       "      <td>13</td>\n",
       "      <td>0</td>\n",
       "      <td>1846.641941</td>\n",
       "      <td>54</td>\n",
       "      <td>неоконченное высшее</td>\n",
       "      <td>2</td>\n",
       "      <td>женат / замужем</td>\n",
       "      <td>0</td>\n",
       "      <td>F</td>\n",
       "      <td>сотрудник</td>\n",
       "      <td>0</td>\n",
       "      <td>130458.228857</td>\n",
       "      <td>приобретение автомобиля</td>\n",
       "    </tr>\n",
       "    <tr>\n",
       "      <td>14</td>\n",
       "      <td>0</td>\n",
       "      <td>1844.956182</td>\n",
       "      <td>56</td>\n",
       "      <td>высшее</td>\n",
       "      <td>0</td>\n",
       "      <td>гражданский брак</td>\n",
       "      <td>1</td>\n",
       "      <td>F</td>\n",
       "      <td>компаньон</td>\n",
       "      <td>1</td>\n",
       "      <td>165127.911772</td>\n",
       "      <td>покупка жилой недвижимости</td>\n",
       "    </tr>\n",
       "  </tbody>\n",
       "</table>\n",
       "</div>"
      ],
      "text/plain": [
       "    children  days_employed  dob_years            education  education_id  \\\n",
       "0          1    8437.673028         42               высшее             0   \n",
       "1          1    4024.803754         36              среднее             1   \n",
       "2          0    5623.422610         33              среднее             1   \n",
       "3          3    4124.747207         32              среднее             1   \n",
       "4          0  340266.072047         53              среднее             1   \n",
       "5          0     926.185831         27               высшее             0   \n",
       "6          0    2879.202052         43               высшее             0   \n",
       "7          0     152.779569         50              среднее             1   \n",
       "8          2    6929.865299         35               высшее             0   \n",
       "9          0    2188.756445         41              среднее             1   \n",
       "10         2    4171.483647         36               высшее             0   \n",
       "11         0     792.701887         40              среднее             1   \n",
       "12         0  365003.491245         65              среднее             1   \n",
       "13         0    1846.641941         54  неоконченное высшее             2   \n",
       "14         0    1844.956182         56               высшее             0   \n",
       "\n",
       "       family_status  family_status_id gender income_type  debt  \\\n",
       "0    женат / замужем                 0      F   сотрудник     0   \n",
       "1    женат / замужем                 0      F   сотрудник     0   \n",
       "2    женат / замужем                 0      M   сотрудник     0   \n",
       "3    женат / замужем                 0      M   сотрудник     0   \n",
       "4   гражданский брак                 1      F   пенсионер     0   \n",
       "5   гражданский брак                 1      M   компаньон     0   \n",
       "6    женат / замужем                 0      F   компаньон     0   \n",
       "7    женат / замужем                 0      M   сотрудник     0   \n",
       "8   гражданский брак                 1      F   сотрудник     0   \n",
       "9    женат / замужем                 0      M   сотрудник     0   \n",
       "10   женат / замужем                 0      M   компаньон     0   \n",
       "11   женат / замужем                 0      F   сотрудник     0   \n",
       "12  гражданский брак                 1      M   пенсионер     0   \n",
       "13   женат / замужем                 0      F   сотрудник     0   \n",
       "14  гражданский брак                 1      F   компаньон     1   \n",
       "\n",
       "     total_income                            purpose  \n",
       "0   253875.639453                      покупка жилья  \n",
       "1   112080.014102            приобретение автомобиля  \n",
       "2   145885.952297                      покупка жилья  \n",
       "3   267628.550329         дополнительное образование  \n",
       "4   158616.077870                    сыграть свадьбу  \n",
       "5   255763.565419                      покупка жилья  \n",
       "6   240525.971920                  операции с жильем  \n",
       "7   135823.934197                        образование  \n",
       "8    95856.832424              на проведение свадьбы  \n",
       "9   144425.938277            покупка жилья для семьи  \n",
       "10  113943.491460               покупка недвижимости  \n",
       "11   77069.234271  покупка коммерческой недвижимости  \n",
       "12  137127.465690                    сыграть свадьбу  \n",
       "13  130458.228857            приобретение автомобиля  \n",
       "14  165127.911772         покупка жилой недвижимости  "
      ]
     },
     "execution_count": 9,
     "metadata": {},
     "output_type": "execute_result"
    }
   ],
   "source": [
    "# приведем значения к нижнему регистру \n",
    "customer_table['education'] = customer_table['education'].str.lower()\n",
    "customer_table.head(15)"
   ]
  },
  {
   "cell_type": "markdown",
   "metadata": {},
   "source": [
    "**Вывод**"
   ]
  },
  {
   "cell_type": "markdown",
   "metadata": {},
   "source": [
    "Значения в столбце days_employed сделали положительными.\n",
    "\n",
    "В столбцах, total_income и days_employed заполнили отсутствующие значения по среднему значению столбца, соответствующему группе типа занятости. \n",
    "\n",
    "В столбце education значения привели к одному регистру.\n",
    "\n",
    "\n"
   ]
  },
  {
   "cell_type": "markdown",
   "metadata": {},
   "source": [
    "### Замена типа данных"
   ]
  },
  {
   "cell_type": "markdown",
   "metadata": {},
   "source": [
    "Используем функцию astype для замены типа данных, так как столбцы  имеют чистый формат float64 и  перевод в int будет безопасным"
   ]
  },
  {
   "cell_type": "code",
   "execution_count": 10,
   "metadata": {},
   "outputs": [],
   "source": [
    "#из float в int\n",
    "customer_table['days_employed'] = customer_table['days_employed'].astype('int')\n",
    "customer_table['total_income'] = customer_table['total_income'].astype('int')"
   ]
  },
  {
   "cell_type": "code",
   "execution_count": 11,
   "metadata": {},
   "outputs": [
    {
     "data": {
      "text/plain": [
       "children             int64\n",
       "days_employed        int64\n",
       "dob_years            int64\n",
       "education           object\n",
       "education_id         int64\n",
       "family_status       object\n",
       "family_status_id     int64\n",
       "gender              object\n",
       "income_type         object\n",
       "debt                 int64\n",
       "total_income         int64\n",
       "purpose             object\n",
       "dtype: object"
      ]
     },
     "execution_count": 11,
     "metadata": {},
     "output_type": "execute_result"
    }
   ],
   "source": [
    "#проверим тип значений\n",
    "customer_table.dtypes"
   ]
  },
  {
   "cell_type": "code",
   "execution_count": 12,
   "metadata": {},
   "outputs": [
    {
     "data": {
      "text/html": [
       "<div>\n",
       "<style scoped>\n",
       "    .dataframe tbody tr th:only-of-type {\n",
       "        vertical-align: middle;\n",
       "    }\n",
       "\n",
       "    .dataframe tbody tr th {\n",
       "        vertical-align: top;\n",
       "    }\n",
       "\n",
       "    .dataframe thead th {\n",
       "        text-align: right;\n",
       "    }\n",
       "</style>\n",
       "<table border=\"1\" class=\"dataframe\">\n",
       "  <thead>\n",
       "    <tr style=\"text-align: right;\">\n",
       "      <th></th>\n",
       "      <th>children</th>\n",
       "      <th>days_employed</th>\n",
       "      <th>dob_years</th>\n",
       "      <th>education</th>\n",
       "      <th>education_id</th>\n",
       "      <th>family_status</th>\n",
       "      <th>family_status_id</th>\n",
       "      <th>gender</th>\n",
       "      <th>income_type</th>\n",
       "      <th>debt</th>\n",
       "      <th>total_income</th>\n",
       "      <th>purpose</th>\n",
       "    </tr>\n",
       "  </thead>\n",
       "  <tbody>\n",
       "    <tr>\n",
       "      <td>0</td>\n",
       "      <td>1</td>\n",
       "      <td>8437</td>\n",
       "      <td>42</td>\n",
       "      <td>высшее</td>\n",
       "      <td>0</td>\n",
       "      <td>женат / замужем</td>\n",
       "      <td>0</td>\n",
       "      <td>F</td>\n",
       "      <td>сотрудник</td>\n",
       "      <td>0</td>\n",
       "      <td>253875</td>\n",
       "      <td>покупка жилья</td>\n",
       "    </tr>\n",
       "    <tr>\n",
       "      <td>1</td>\n",
       "      <td>1</td>\n",
       "      <td>4024</td>\n",
       "      <td>36</td>\n",
       "      <td>среднее</td>\n",
       "      <td>1</td>\n",
       "      <td>женат / замужем</td>\n",
       "      <td>0</td>\n",
       "      <td>F</td>\n",
       "      <td>сотрудник</td>\n",
       "      <td>0</td>\n",
       "      <td>112080</td>\n",
       "      <td>приобретение автомобиля</td>\n",
       "    </tr>\n",
       "    <tr>\n",
       "      <td>2</td>\n",
       "      <td>0</td>\n",
       "      <td>5623</td>\n",
       "      <td>33</td>\n",
       "      <td>среднее</td>\n",
       "      <td>1</td>\n",
       "      <td>женат / замужем</td>\n",
       "      <td>0</td>\n",
       "      <td>M</td>\n",
       "      <td>сотрудник</td>\n",
       "      <td>0</td>\n",
       "      <td>145885</td>\n",
       "      <td>покупка жилья</td>\n",
       "    </tr>\n",
       "    <tr>\n",
       "      <td>3</td>\n",
       "      <td>3</td>\n",
       "      <td>4124</td>\n",
       "      <td>32</td>\n",
       "      <td>среднее</td>\n",
       "      <td>1</td>\n",
       "      <td>женат / замужем</td>\n",
       "      <td>0</td>\n",
       "      <td>M</td>\n",
       "      <td>сотрудник</td>\n",
       "      <td>0</td>\n",
       "      <td>267628</td>\n",
       "      <td>дополнительное образование</td>\n",
       "    </tr>\n",
       "    <tr>\n",
       "      <td>4</td>\n",
       "      <td>0</td>\n",
       "      <td>340266</td>\n",
       "      <td>53</td>\n",
       "      <td>среднее</td>\n",
       "      <td>1</td>\n",
       "      <td>гражданский брак</td>\n",
       "      <td>1</td>\n",
       "      <td>F</td>\n",
       "      <td>пенсионер</td>\n",
       "      <td>0</td>\n",
       "      <td>158616</td>\n",
       "      <td>сыграть свадьбу</td>\n",
       "    </tr>\n",
       "    <tr>\n",
       "      <td>5</td>\n",
       "      <td>0</td>\n",
       "      <td>926</td>\n",
       "      <td>27</td>\n",
       "      <td>высшее</td>\n",
       "      <td>0</td>\n",
       "      <td>гражданский брак</td>\n",
       "      <td>1</td>\n",
       "      <td>M</td>\n",
       "      <td>компаньон</td>\n",
       "      <td>0</td>\n",
       "      <td>255763</td>\n",
       "      <td>покупка жилья</td>\n",
       "    </tr>\n",
       "    <tr>\n",
       "      <td>6</td>\n",
       "      <td>0</td>\n",
       "      <td>2879</td>\n",
       "      <td>43</td>\n",
       "      <td>высшее</td>\n",
       "      <td>0</td>\n",
       "      <td>женат / замужем</td>\n",
       "      <td>0</td>\n",
       "      <td>F</td>\n",
       "      <td>компаньон</td>\n",
       "      <td>0</td>\n",
       "      <td>240525</td>\n",
       "      <td>операции с жильем</td>\n",
       "    </tr>\n",
       "    <tr>\n",
       "      <td>7</td>\n",
       "      <td>0</td>\n",
       "      <td>152</td>\n",
       "      <td>50</td>\n",
       "      <td>среднее</td>\n",
       "      <td>1</td>\n",
       "      <td>женат / замужем</td>\n",
       "      <td>0</td>\n",
       "      <td>M</td>\n",
       "      <td>сотрудник</td>\n",
       "      <td>0</td>\n",
       "      <td>135823</td>\n",
       "      <td>образование</td>\n",
       "    </tr>\n",
       "    <tr>\n",
       "      <td>8</td>\n",
       "      <td>2</td>\n",
       "      <td>6929</td>\n",
       "      <td>35</td>\n",
       "      <td>высшее</td>\n",
       "      <td>0</td>\n",
       "      <td>гражданский брак</td>\n",
       "      <td>1</td>\n",
       "      <td>F</td>\n",
       "      <td>сотрудник</td>\n",
       "      <td>0</td>\n",
       "      <td>95856</td>\n",
       "      <td>на проведение свадьбы</td>\n",
       "    </tr>\n",
       "    <tr>\n",
       "      <td>9</td>\n",
       "      <td>0</td>\n",
       "      <td>2188</td>\n",
       "      <td>41</td>\n",
       "      <td>среднее</td>\n",
       "      <td>1</td>\n",
       "      <td>женат / замужем</td>\n",
       "      <td>0</td>\n",
       "      <td>M</td>\n",
       "      <td>сотрудник</td>\n",
       "      <td>0</td>\n",
       "      <td>144425</td>\n",
       "      <td>покупка жилья для семьи</td>\n",
       "    </tr>\n",
       "  </tbody>\n",
       "</table>\n",
       "</div>"
      ],
      "text/plain": [
       "   children  days_employed  dob_years education  education_id  \\\n",
       "0         1           8437         42    высшее             0   \n",
       "1         1           4024         36   среднее             1   \n",
       "2         0           5623         33   среднее             1   \n",
       "3         3           4124         32   среднее             1   \n",
       "4         0         340266         53   среднее             1   \n",
       "5         0            926         27    высшее             0   \n",
       "6         0           2879         43    высшее             0   \n",
       "7         0            152         50   среднее             1   \n",
       "8         2           6929         35    высшее             0   \n",
       "9         0           2188         41   среднее             1   \n",
       "\n",
       "      family_status  family_status_id gender income_type  debt  total_income  \\\n",
       "0   женат / замужем                 0      F   сотрудник     0        253875   \n",
       "1   женат / замужем                 0      F   сотрудник     0        112080   \n",
       "2   женат / замужем                 0      M   сотрудник     0        145885   \n",
       "3   женат / замужем                 0      M   сотрудник     0        267628   \n",
       "4  гражданский брак                 1      F   пенсионер     0        158616   \n",
       "5  гражданский брак                 1      M   компаньон     0        255763   \n",
       "6   женат / замужем                 0      F   компаньон     0        240525   \n",
       "7   женат / замужем                 0      M   сотрудник     0        135823   \n",
       "8  гражданский брак                 1      F   сотрудник     0         95856   \n",
       "9   женат / замужем                 0      M   сотрудник     0        144425   \n",
       "\n",
       "                      purpose  \n",
       "0               покупка жилья  \n",
       "1     приобретение автомобиля  \n",
       "2               покупка жилья  \n",
       "3  дополнительное образование  \n",
       "4             сыграть свадьбу  \n",
       "5               покупка жилья  \n",
       "6           операции с жильем  \n",
       "7                 образование  \n",
       "8       на проведение свадьбы  \n",
       "9     покупка жилья для семьи  "
      ]
     },
     "execution_count": 12,
     "metadata": {},
     "output_type": "execute_result"
    }
   ],
   "source": [
    "customer_table.head(10)   #распечатаем первые 10 строк"
   ]
  },
  {
   "cell_type": "markdown",
   "metadata": {},
   "source": [
    "**Вывод**"
   ]
  },
  {
   "cell_type": "markdown",
   "metadata": {},
   "source": [
    "Значения в столбце days_employed и total_income привели к целочисленному типу, так более наглядно и удобнее для вычислений.\n",
    "Для замены типа данных был использован метод astype, так как мы уже обработали пропущенные значения (иначе можно было бы использовать to_numeric)."
   ]
  },
  {
   "cell_type": "markdown",
   "metadata": {},
   "source": [
    "### Обработка дубликатов"
   ]
  },
  {
   "cell_type": "code",
   "execution_count": 13,
   "metadata": {},
   "outputs": [
    {
     "data": {
      "text/plain": [
       "71"
      ]
     },
     "execution_count": 13,
     "metadata": {},
     "output_type": "execute_result"
    }
   ],
   "source": [
    "#считаем количество дубликатов в данных\n",
    "customer_table.duplicated().sum()"
   ]
  },
  {
   "cell_type": "markdown",
   "metadata": {},
   "source": [
    "Дубликаты имеются. Скорее всего просто имеет место случайное копирование строк, типичное задвоение данных. \n",
    "Займемся их удалением."
   ]
  },
  {
   "cell_type": "code",
   "execution_count": 14,
   "metadata": {},
   "outputs": [
    {
     "data": {
      "text/plain": [
       "0"
      ]
     },
     "execution_count": 14,
     "metadata": {},
     "output_type": "execute_result"
    }
   ],
   "source": [
    "#удаляем дубликаты \n",
    "customer_table = customer_table.drop_duplicates().reset_index(drop = True)\n",
    "#проверяем еще раз количество\n",
    "customer_table.duplicated().sum()"
   ]
  },
  {
   "cell_type": "markdown",
   "metadata": {},
   "source": [
    "**Вывод**"
   ]
  },
  {
   "cell_type": "markdown",
   "metadata": {},
   "source": [
    "Дубликаты удалены. "
   ]
  },
  {
   "cell_type": "markdown",
   "metadata": {},
   "source": [
    "### Лемматизация"
   ]
  },
  {
   "cell_type": "markdown",
   "metadata": {},
   "source": [
    "В столбце, отражающем цель получения кредита нужно выделить цели, имеющие общий смысл и назвать их одинаково.\n",
    "Для начала необходимо выяснить количество значений."
   ]
  },
  {
   "cell_type": "code",
   "execution_count": 15,
   "metadata": {},
   "outputs": [
    {
     "data": {
      "text/plain": [
       "свадьба                                   791\n",
       "на проведение свадьбы                     768\n",
       "сыграть свадьбу                           765\n",
       "операции с недвижимостью                  675\n",
       "покупка коммерческой недвижимости         661\n",
       "операции с жильем                         652\n",
       "покупка жилья для сдачи                   651\n",
       "операции с коммерческой недвижимостью     650\n",
       "покупка жилья                             646\n",
       "жилье                                     646\n",
       "покупка жилья для семьи                   638\n",
       "строительство собственной недвижимости    635\n",
       "недвижимость                              633\n",
       "операции со своей недвижимостью           627\n",
       "строительство жилой недвижимости          624\n",
       "покупка недвижимости                      621\n",
       "покупка своего жилья                      620\n",
       "строительство недвижимости                619\n",
       "ремонт жилью                              607\n",
       "покупка жилой недвижимости                606\n",
       "на покупку своего автомобиля              505\n",
       "заняться высшим образованием              496\n",
       "автомобиль                                494\n",
       "сделка с подержанным автомобилем          486\n",
       "свой автомобиль                           478\n",
       "автомобили                                478\n",
       "на покупку подержанного автомобиля        478\n",
       "на покупку автомобиля                     471\n",
       "приобретение автомобиля                   461\n",
       "дополнительное образование                460\n",
       "сделка с автомобилем                      455\n",
       "высшее образование                        452\n",
       "образование                               447\n",
       "получение дополнительного образования     446\n",
       "получение образования                     442\n",
       "профильное образование                    436\n",
       "получение высшего образования             426\n",
       "заняться образованием                     408\n",
       "Name: purpose, dtype: int64"
      ]
     },
     "execution_count": 15,
     "metadata": {},
     "output_type": "execute_result"
    }
   ],
   "source": [
    "# Посчитаем все варианты целей кредита.\n",
    "customer_table['purpose'].value_counts()"
   ]
  },
  {
   "cell_type": "markdown",
   "metadata": {},
   "source": [
    "Среди всех возможных целей получения кредита можно выделить основные 5 целей, отражающие основные причины.\n",
    "Можно сделать этот список вручную, так как количество выявленных причин небольшое.\n",
    "После этого можно провести лемматизацию и заменитить значения на ключевые слова.\n"
   ]
  },
  {
   "cell_type": "code",
   "execution_count": 16,
   "metadata": {},
   "outputs": [
    {
     "data": {
      "text/html": [
       "<div>\n",
       "<style scoped>\n",
       "    .dataframe tbody tr th:only-of-type {\n",
       "        vertical-align: middle;\n",
       "    }\n",
       "\n",
       "    .dataframe tbody tr th {\n",
       "        vertical-align: top;\n",
       "    }\n",
       "\n",
       "    .dataframe thead th {\n",
       "        text-align: right;\n",
       "    }\n",
       "</style>\n",
       "<table border=\"1\" class=\"dataframe\">\n",
       "  <thead>\n",
       "    <tr style=\"text-align: right;\">\n",
       "      <th></th>\n",
       "      <th>children</th>\n",
       "      <th>days_employed</th>\n",
       "      <th>dob_years</th>\n",
       "      <th>education</th>\n",
       "      <th>education_id</th>\n",
       "      <th>family_status</th>\n",
       "      <th>family_status_id</th>\n",
       "      <th>gender</th>\n",
       "      <th>income_type</th>\n",
       "      <th>debt</th>\n",
       "      <th>total_income</th>\n",
       "      <th>purpose</th>\n",
       "      <th>purpose_group</th>\n",
       "    </tr>\n",
       "  </thead>\n",
       "  <tbody>\n",
       "    <tr>\n",
       "      <td>0</td>\n",
       "      <td>1</td>\n",
       "      <td>8437</td>\n",
       "      <td>42</td>\n",
       "      <td>высшее</td>\n",
       "      <td>0</td>\n",
       "      <td>женат / замужем</td>\n",
       "      <td>0</td>\n",
       "      <td>F</td>\n",
       "      <td>сотрудник</td>\n",
       "      <td>0</td>\n",
       "      <td>253875</td>\n",
       "      <td>покупка жилья</td>\n",
       "      <td>жилье</td>\n",
       "    </tr>\n",
       "    <tr>\n",
       "      <td>1</td>\n",
       "      <td>1</td>\n",
       "      <td>4024</td>\n",
       "      <td>36</td>\n",
       "      <td>среднее</td>\n",
       "      <td>1</td>\n",
       "      <td>женат / замужем</td>\n",
       "      <td>0</td>\n",
       "      <td>F</td>\n",
       "      <td>сотрудник</td>\n",
       "      <td>0</td>\n",
       "      <td>112080</td>\n",
       "      <td>приобретение автомобиля</td>\n",
       "      <td>автомобиль</td>\n",
       "    </tr>\n",
       "    <tr>\n",
       "      <td>2</td>\n",
       "      <td>0</td>\n",
       "      <td>5623</td>\n",
       "      <td>33</td>\n",
       "      <td>среднее</td>\n",
       "      <td>1</td>\n",
       "      <td>женат / замужем</td>\n",
       "      <td>0</td>\n",
       "      <td>M</td>\n",
       "      <td>сотрудник</td>\n",
       "      <td>0</td>\n",
       "      <td>145885</td>\n",
       "      <td>покупка жилья</td>\n",
       "      <td>жилье</td>\n",
       "    </tr>\n",
       "    <tr>\n",
       "      <td>3</td>\n",
       "      <td>3</td>\n",
       "      <td>4124</td>\n",
       "      <td>32</td>\n",
       "      <td>среднее</td>\n",
       "      <td>1</td>\n",
       "      <td>женат / замужем</td>\n",
       "      <td>0</td>\n",
       "      <td>M</td>\n",
       "      <td>сотрудник</td>\n",
       "      <td>0</td>\n",
       "      <td>267628</td>\n",
       "      <td>дополнительное образование</td>\n",
       "      <td>образование</td>\n",
       "    </tr>\n",
       "    <tr>\n",
       "      <td>4</td>\n",
       "      <td>0</td>\n",
       "      <td>340266</td>\n",
       "      <td>53</td>\n",
       "      <td>среднее</td>\n",
       "      <td>1</td>\n",
       "      <td>гражданский брак</td>\n",
       "      <td>1</td>\n",
       "      <td>F</td>\n",
       "      <td>пенсионер</td>\n",
       "      <td>0</td>\n",
       "      <td>158616</td>\n",
       "      <td>сыграть свадьбу</td>\n",
       "      <td>свадьба</td>\n",
       "    </tr>\n",
       "  </tbody>\n",
       "</table>\n",
       "</div>"
      ],
      "text/plain": [
       "   children  days_employed  dob_years education  education_id  \\\n",
       "0         1           8437         42    высшее             0   \n",
       "1         1           4024         36   среднее             1   \n",
       "2         0           5623         33   среднее             1   \n",
       "3         3           4124         32   среднее             1   \n",
       "4         0         340266         53   среднее             1   \n",
       "\n",
       "      family_status  family_status_id gender income_type  debt  total_income  \\\n",
       "0   женат / замужем                 0      F   сотрудник     0        253875   \n",
       "1   женат / замужем                 0      F   сотрудник     0        112080   \n",
       "2   женат / замужем                 0      M   сотрудник     0        145885   \n",
       "3   женат / замужем                 0      M   сотрудник     0        267628   \n",
       "4  гражданский брак                 1      F   пенсионер     0        158616   \n",
       "\n",
       "                      purpose purpose_group  \n",
       "0               покупка жилья         жилье  \n",
       "1     приобретение автомобиля    автомобиль  \n",
       "2               покупка жилья         жилье  \n",
       "3  дополнительное образование   образование  \n",
       "4             сыграть свадьбу       свадьба  "
      ]
     },
     "execution_count": 16,
     "metadata": {},
     "output_type": "execute_result"
    }
   ],
   "source": [
    "# создадим список основных целей кредита\n",
    "categories = ['сдача', 'коммерческий', 'жилье', 'образование', 'свадьба', 'недвижимость', 'автомобиль']\n",
    "\n",
    "# проведем лемматизацию,\n",
    "# заменим полученный список лемм в каждой строке на главное ключевое слово с помощью создания функции\n",
    "# из списка категорий, создаем новый столбец\n",
    "m = Mystem()\n",
    "def lemmatize(text):\n",
    "    lemma = m.lemmatize(text)\n",
    "    for element in categories:\n",
    "        if element in lemma:\n",
    "            lemma = element\n",
    "    return lemma\n",
    "\n",
    "customer_table['purpose_group'] = customer_table['purpose'].apply(lemmatize)        \n",
    "customer_table.head()"
   ]
  },
  {
   "cell_type": "markdown",
   "metadata": {},
   "source": [
    "Новый столбец с ключевыми словами создан, посчитаем сколько получилось значений в нем.\n"
   ]
  },
  {
   "cell_type": "code",
   "execution_count": 17,
   "metadata": {},
   "outputs": [
    {
     "data": {
      "text/plain": [
       "недвижимость    5040\n",
       "автомобиль      4306\n",
       "образование     4013\n",
       "жилье           3809\n",
       "свадьба         2324\n",
       "коммерческий    1311\n",
       "сдача            651\n",
       "Name: purpose_group, dtype: int64"
      ]
     },
     "execution_count": 17,
     "metadata": {},
     "output_type": "execute_result"
    }
   ],
   "source": [
    "#подсчет количества ключевых слов\n",
    "customer_table['purpose_group'].value_counts()"
   ]
  },
  {
   "cell_type": "markdown",
   "metadata": {},
   "source": [
    "Так как жилье это и есть  недвижимость, то сделаем соответствующую замену. Можно еще заменить категории по покупке коммерческой недвижимости или покупке недвижимости для сдачи  на инвестиционную цель."
   ]
  },
  {
   "cell_type": "code",
   "execution_count": 18,
   "metadata": {},
   "outputs": [],
   "source": [
    "customer_table.loc[customer_table['purpose_group'] == 'жилье', 'purpose_group'] = 'недвижимость'\n",
    "customer_table.loc[customer_table['purpose_group'] == 'коммерческий', 'purpose_group'] = 'инвестиция'\n",
    "customer_table.loc[customer_table['purpose_group'] == 'сдача', 'purpose_group'] = 'инвестиция'"
   ]
  },
  {
   "cell_type": "code",
   "execution_count": 19,
   "metadata": {},
   "outputs": [
    {
     "data": {
      "text/plain": [
       "недвижимость    8849\n",
       "автомобиль      4306\n",
       "образование     4013\n",
       "свадьба         2324\n",
       "инвестиция      1962\n",
       "Name: purpose_group, dtype: int64"
      ]
     },
     "execution_count": 19,
     "metadata": {},
     "output_type": "execute_result"
    }
   ],
   "source": [
    "customer_table['purpose_group'].value_counts()"
   ]
  },
  {
   "cell_type": "code",
   "execution_count": 20,
   "metadata": {},
   "outputs": [
    {
     "data": {
      "text/html": [
       "<div>\n",
       "<style scoped>\n",
       "    .dataframe tbody tr th:only-of-type {\n",
       "        vertical-align: middle;\n",
       "    }\n",
       "\n",
       "    .dataframe tbody tr th {\n",
       "        vertical-align: top;\n",
       "    }\n",
       "\n",
       "    .dataframe thead th {\n",
       "        text-align: right;\n",
       "    }\n",
       "</style>\n",
       "<table border=\"1\" class=\"dataframe\">\n",
       "  <thead>\n",
       "    <tr style=\"text-align: right;\">\n",
       "      <th></th>\n",
       "      <th>children</th>\n",
       "      <th>days_employed</th>\n",
       "      <th>dob_years</th>\n",
       "      <th>education</th>\n",
       "      <th>education_id</th>\n",
       "      <th>family_status</th>\n",
       "      <th>family_status_id</th>\n",
       "      <th>gender</th>\n",
       "      <th>income_type</th>\n",
       "      <th>debt</th>\n",
       "      <th>total_income</th>\n",
       "      <th>purpose</th>\n",
       "      <th>purpose_group</th>\n",
       "    </tr>\n",
       "  </thead>\n",
       "  <tbody>\n",
       "    <tr>\n",
       "      <td>0</td>\n",
       "      <td>1</td>\n",
       "      <td>8437</td>\n",
       "      <td>42</td>\n",
       "      <td>высшее</td>\n",
       "      <td>0</td>\n",
       "      <td>женат / замужем</td>\n",
       "      <td>0</td>\n",
       "      <td>F</td>\n",
       "      <td>сотрудник</td>\n",
       "      <td>0</td>\n",
       "      <td>253875</td>\n",
       "      <td>покупка жилья</td>\n",
       "      <td>недвижимость</td>\n",
       "    </tr>\n",
       "    <tr>\n",
       "      <td>1</td>\n",
       "      <td>1</td>\n",
       "      <td>4024</td>\n",
       "      <td>36</td>\n",
       "      <td>среднее</td>\n",
       "      <td>1</td>\n",
       "      <td>женат / замужем</td>\n",
       "      <td>0</td>\n",
       "      <td>F</td>\n",
       "      <td>сотрудник</td>\n",
       "      <td>0</td>\n",
       "      <td>112080</td>\n",
       "      <td>приобретение автомобиля</td>\n",
       "      <td>автомобиль</td>\n",
       "    </tr>\n",
       "    <tr>\n",
       "      <td>2</td>\n",
       "      <td>0</td>\n",
       "      <td>5623</td>\n",
       "      <td>33</td>\n",
       "      <td>среднее</td>\n",
       "      <td>1</td>\n",
       "      <td>женат / замужем</td>\n",
       "      <td>0</td>\n",
       "      <td>M</td>\n",
       "      <td>сотрудник</td>\n",
       "      <td>0</td>\n",
       "      <td>145885</td>\n",
       "      <td>покупка жилья</td>\n",
       "      <td>недвижимость</td>\n",
       "    </tr>\n",
       "    <tr>\n",
       "      <td>3</td>\n",
       "      <td>3</td>\n",
       "      <td>4124</td>\n",
       "      <td>32</td>\n",
       "      <td>среднее</td>\n",
       "      <td>1</td>\n",
       "      <td>женат / замужем</td>\n",
       "      <td>0</td>\n",
       "      <td>M</td>\n",
       "      <td>сотрудник</td>\n",
       "      <td>0</td>\n",
       "      <td>267628</td>\n",
       "      <td>дополнительное образование</td>\n",
       "      <td>образование</td>\n",
       "    </tr>\n",
       "    <tr>\n",
       "      <td>4</td>\n",
       "      <td>0</td>\n",
       "      <td>340266</td>\n",
       "      <td>53</td>\n",
       "      <td>среднее</td>\n",
       "      <td>1</td>\n",
       "      <td>гражданский брак</td>\n",
       "      <td>1</td>\n",
       "      <td>F</td>\n",
       "      <td>пенсионер</td>\n",
       "      <td>0</td>\n",
       "      <td>158616</td>\n",
       "      <td>сыграть свадьбу</td>\n",
       "      <td>свадьба</td>\n",
       "    </tr>\n",
       "    <tr>\n",
       "      <td>5</td>\n",
       "      <td>0</td>\n",
       "      <td>926</td>\n",
       "      <td>27</td>\n",
       "      <td>высшее</td>\n",
       "      <td>0</td>\n",
       "      <td>гражданский брак</td>\n",
       "      <td>1</td>\n",
       "      <td>M</td>\n",
       "      <td>компаньон</td>\n",
       "      <td>0</td>\n",
       "      <td>255763</td>\n",
       "      <td>покупка жилья</td>\n",
       "      <td>недвижимость</td>\n",
       "    </tr>\n",
       "    <tr>\n",
       "      <td>6</td>\n",
       "      <td>0</td>\n",
       "      <td>2879</td>\n",
       "      <td>43</td>\n",
       "      <td>высшее</td>\n",
       "      <td>0</td>\n",
       "      <td>женат / замужем</td>\n",
       "      <td>0</td>\n",
       "      <td>F</td>\n",
       "      <td>компаньон</td>\n",
       "      <td>0</td>\n",
       "      <td>240525</td>\n",
       "      <td>операции с жильем</td>\n",
       "      <td>недвижимость</td>\n",
       "    </tr>\n",
       "    <tr>\n",
       "      <td>7</td>\n",
       "      <td>0</td>\n",
       "      <td>152</td>\n",
       "      <td>50</td>\n",
       "      <td>среднее</td>\n",
       "      <td>1</td>\n",
       "      <td>женат / замужем</td>\n",
       "      <td>0</td>\n",
       "      <td>M</td>\n",
       "      <td>сотрудник</td>\n",
       "      <td>0</td>\n",
       "      <td>135823</td>\n",
       "      <td>образование</td>\n",
       "      <td>образование</td>\n",
       "    </tr>\n",
       "    <tr>\n",
       "      <td>8</td>\n",
       "      <td>2</td>\n",
       "      <td>6929</td>\n",
       "      <td>35</td>\n",
       "      <td>высшее</td>\n",
       "      <td>0</td>\n",
       "      <td>гражданский брак</td>\n",
       "      <td>1</td>\n",
       "      <td>F</td>\n",
       "      <td>сотрудник</td>\n",
       "      <td>0</td>\n",
       "      <td>95856</td>\n",
       "      <td>на проведение свадьбы</td>\n",
       "      <td>свадьба</td>\n",
       "    </tr>\n",
       "    <tr>\n",
       "      <td>9</td>\n",
       "      <td>0</td>\n",
       "      <td>2188</td>\n",
       "      <td>41</td>\n",
       "      <td>среднее</td>\n",
       "      <td>1</td>\n",
       "      <td>женат / замужем</td>\n",
       "      <td>0</td>\n",
       "      <td>M</td>\n",
       "      <td>сотрудник</td>\n",
       "      <td>0</td>\n",
       "      <td>144425</td>\n",
       "      <td>покупка жилья для семьи</td>\n",
       "      <td>недвижимость</td>\n",
       "    </tr>\n",
       "  </tbody>\n",
       "</table>\n",
       "</div>"
      ],
      "text/plain": [
       "   children  days_employed  dob_years education  education_id  \\\n",
       "0         1           8437         42    высшее             0   \n",
       "1         1           4024         36   среднее             1   \n",
       "2         0           5623         33   среднее             1   \n",
       "3         3           4124         32   среднее             1   \n",
       "4         0         340266         53   среднее             1   \n",
       "5         0            926         27    высшее             0   \n",
       "6         0           2879         43    высшее             0   \n",
       "7         0            152         50   среднее             1   \n",
       "8         2           6929         35    высшее             0   \n",
       "9         0           2188         41   среднее             1   \n",
       "\n",
       "      family_status  family_status_id gender income_type  debt  total_income  \\\n",
       "0   женат / замужем                 0      F   сотрудник     0        253875   \n",
       "1   женат / замужем                 0      F   сотрудник     0        112080   \n",
       "2   женат / замужем                 0      M   сотрудник     0        145885   \n",
       "3   женат / замужем                 0      M   сотрудник     0        267628   \n",
       "4  гражданский брак                 1      F   пенсионер     0        158616   \n",
       "5  гражданский брак                 1      M   компаньон     0        255763   \n",
       "6   женат / замужем                 0      F   компаньон     0        240525   \n",
       "7   женат / замужем                 0      M   сотрудник     0        135823   \n",
       "8  гражданский брак                 1      F   сотрудник     0         95856   \n",
       "9   женат / замужем                 0      M   сотрудник     0        144425   \n",
       "\n",
       "                      purpose purpose_group  \n",
       "0               покупка жилья  недвижимость  \n",
       "1     приобретение автомобиля    автомобиль  \n",
       "2               покупка жилья  недвижимость  \n",
       "3  дополнительное образование   образование  \n",
       "4             сыграть свадьбу       свадьба  \n",
       "5               покупка жилья  недвижимость  \n",
       "6           операции с жильем  недвижимость  \n",
       "7                 образование   образование  \n",
       "8       на проведение свадьбы       свадьба  \n",
       "9     покупка жилья для семьи  недвижимость  "
      ]
     },
     "execution_count": 20,
     "metadata": {},
     "output_type": "execute_result"
    }
   ],
   "source": [
    "customer_table.head(10) #распечатаем, чтобы перепроверить"
   ]
  },
  {
   "cell_type": "markdown",
   "metadata": {},
   "source": [
    "**Вывод**"
   ]
  },
  {
   "cell_type": "markdown",
   "metadata": {},
   "source": [
    "Из цели получения кредита каждого клиента было выделено по ключевому слову.\n",
    "Подобный способ выделения целей упрощает дальнейший анализ, при этом сохраняя смысл цели получения кредита.\n",
    "\n",
    "Цели, содержащие производные слова от слова жилье были заменены на категорию недвижимость.\n",
    "Так как приобретение коммерческой недвижимости или недвижимости для сдачи относится к инвестиционным целям, и на этих вариантах можно увеличить капитал, мы выделяем это в отдельную категорию, а не объединяем с недвижимостью."
   ]
  },
  {
   "cell_type": "markdown",
   "metadata": {},
   "source": [
    "### Категоризация данных"
   ]
  },
  {
   "cell_type": "markdown",
   "metadata": {},
   "source": [
    "По целям кредита мы уже присвоили категории, по семейному статусу они уже сгруппированы. \n",
    "Выделим категории по уровню дохода,  по количеству детей, так как выделение именно этих категорий необходимо нам для ответа на интересующие нас вопросы относительно цели исследования.\n"
   ]
  },
  {
   "cell_type": "markdown",
   "metadata": {},
   "source": [
    "Разобьем на категории по доходу total_income:\n",
    "\n",
    "Бедный x <= 50000;\n",
    "\n",
    "Средний 50000 < x <= 150000;\n",
    "\n",
    "Выше среднего 150000 < x < 200000;\n",
    "\n",
    "Богатый x >= 200000;"
   ]
  },
  {
   "cell_type": "code",
   "execution_count": 21,
   "metadata": {},
   "outputs": [
    {
     "data": {
      "text/html": [
       "<div>\n",
       "<style scoped>\n",
       "    .dataframe tbody tr th:only-of-type {\n",
       "        vertical-align: middle;\n",
       "    }\n",
       "\n",
       "    .dataframe tbody tr th {\n",
       "        vertical-align: top;\n",
       "    }\n",
       "\n",
       "    .dataframe thead th {\n",
       "        text-align: right;\n",
       "    }\n",
       "</style>\n",
       "<table border=\"1\" class=\"dataframe\">\n",
       "  <thead>\n",
       "    <tr style=\"text-align: right;\">\n",
       "      <th></th>\n",
       "      <th>children</th>\n",
       "      <th>days_employed</th>\n",
       "      <th>dob_years</th>\n",
       "      <th>education</th>\n",
       "      <th>education_id</th>\n",
       "      <th>family_status</th>\n",
       "      <th>family_status_id</th>\n",
       "      <th>gender</th>\n",
       "      <th>income_type</th>\n",
       "      <th>debt</th>\n",
       "      <th>total_income</th>\n",
       "      <th>purpose</th>\n",
       "      <th>purpose_group</th>\n",
       "      <th>income_group</th>\n",
       "    </tr>\n",
       "  </thead>\n",
       "  <tbody>\n",
       "    <tr>\n",
       "      <td>0</td>\n",
       "      <td>1</td>\n",
       "      <td>8437</td>\n",
       "      <td>42</td>\n",
       "      <td>высшее</td>\n",
       "      <td>0</td>\n",
       "      <td>женат / замужем</td>\n",
       "      <td>0</td>\n",
       "      <td>F</td>\n",
       "      <td>сотрудник</td>\n",
       "      <td>0</td>\n",
       "      <td>253875</td>\n",
       "      <td>покупка жилья</td>\n",
       "      <td>недвижимость</td>\n",
       "      <td>богатый</td>\n",
       "    </tr>\n",
       "    <tr>\n",
       "      <td>1</td>\n",
       "      <td>1</td>\n",
       "      <td>4024</td>\n",
       "      <td>36</td>\n",
       "      <td>среднее</td>\n",
       "      <td>1</td>\n",
       "      <td>женат / замужем</td>\n",
       "      <td>0</td>\n",
       "      <td>F</td>\n",
       "      <td>сотрудник</td>\n",
       "      <td>0</td>\n",
       "      <td>112080</td>\n",
       "      <td>приобретение автомобиля</td>\n",
       "      <td>автомобиль</td>\n",
       "      <td>выше среднего</td>\n",
       "    </tr>\n",
       "    <tr>\n",
       "      <td>2</td>\n",
       "      <td>0</td>\n",
       "      <td>5623</td>\n",
       "      <td>33</td>\n",
       "      <td>среднее</td>\n",
       "      <td>1</td>\n",
       "      <td>женат / замужем</td>\n",
       "      <td>0</td>\n",
       "      <td>M</td>\n",
       "      <td>сотрудник</td>\n",
       "      <td>0</td>\n",
       "      <td>145885</td>\n",
       "      <td>покупка жилья</td>\n",
       "      <td>недвижимость</td>\n",
       "      <td>выше среднего</td>\n",
       "    </tr>\n",
       "    <tr>\n",
       "      <td>3</td>\n",
       "      <td>3</td>\n",
       "      <td>4124</td>\n",
       "      <td>32</td>\n",
       "      <td>среднее</td>\n",
       "      <td>1</td>\n",
       "      <td>женат / замужем</td>\n",
       "      <td>0</td>\n",
       "      <td>M</td>\n",
       "      <td>сотрудник</td>\n",
       "      <td>0</td>\n",
       "      <td>267628</td>\n",
       "      <td>дополнительное образование</td>\n",
       "      <td>образование</td>\n",
       "      <td>богатый</td>\n",
       "    </tr>\n",
       "    <tr>\n",
       "      <td>4</td>\n",
       "      <td>0</td>\n",
       "      <td>340266</td>\n",
       "      <td>53</td>\n",
       "      <td>среднее</td>\n",
       "      <td>1</td>\n",
       "      <td>гражданский брак</td>\n",
       "      <td>1</td>\n",
       "      <td>F</td>\n",
       "      <td>пенсионер</td>\n",
       "      <td>0</td>\n",
       "      <td>158616</td>\n",
       "      <td>сыграть свадьбу</td>\n",
       "      <td>свадьба</td>\n",
       "      <td>выше среднего</td>\n",
       "    </tr>\n",
       "    <tr>\n",
       "      <td>5</td>\n",
       "      <td>0</td>\n",
       "      <td>926</td>\n",
       "      <td>27</td>\n",
       "      <td>высшее</td>\n",
       "      <td>0</td>\n",
       "      <td>гражданский брак</td>\n",
       "      <td>1</td>\n",
       "      <td>M</td>\n",
       "      <td>компаньон</td>\n",
       "      <td>0</td>\n",
       "      <td>255763</td>\n",
       "      <td>покупка жилья</td>\n",
       "      <td>недвижимость</td>\n",
       "      <td>богатый</td>\n",
       "    </tr>\n",
       "    <tr>\n",
       "      <td>6</td>\n",
       "      <td>0</td>\n",
       "      <td>2879</td>\n",
       "      <td>43</td>\n",
       "      <td>высшее</td>\n",
       "      <td>0</td>\n",
       "      <td>женат / замужем</td>\n",
       "      <td>0</td>\n",
       "      <td>F</td>\n",
       "      <td>компаньон</td>\n",
       "      <td>0</td>\n",
       "      <td>240525</td>\n",
       "      <td>операции с жильем</td>\n",
       "      <td>недвижимость</td>\n",
       "      <td>богатый</td>\n",
       "    </tr>\n",
       "    <tr>\n",
       "      <td>7</td>\n",
       "      <td>0</td>\n",
       "      <td>152</td>\n",
       "      <td>50</td>\n",
       "      <td>среднее</td>\n",
       "      <td>1</td>\n",
       "      <td>женат / замужем</td>\n",
       "      <td>0</td>\n",
       "      <td>M</td>\n",
       "      <td>сотрудник</td>\n",
       "      <td>0</td>\n",
       "      <td>135823</td>\n",
       "      <td>образование</td>\n",
       "      <td>образование</td>\n",
       "      <td>выше среднего</td>\n",
       "    </tr>\n",
       "    <tr>\n",
       "      <td>8</td>\n",
       "      <td>2</td>\n",
       "      <td>6929</td>\n",
       "      <td>35</td>\n",
       "      <td>высшее</td>\n",
       "      <td>0</td>\n",
       "      <td>гражданский брак</td>\n",
       "      <td>1</td>\n",
       "      <td>F</td>\n",
       "      <td>сотрудник</td>\n",
       "      <td>0</td>\n",
       "      <td>95856</td>\n",
       "      <td>на проведение свадьбы</td>\n",
       "      <td>свадьба</td>\n",
       "      <td>средний</td>\n",
       "    </tr>\n",
       "    <tr>\n",
       "      <td>9</td>\n",
       "      <td>0</td>\n",
       "      <td>2188</td>\n",
       "      <td>41</td>\n",
       "      <td>среднее</td>\n",
       "      <td>1</td>\n",
       "      <td>женат / замужем</td>\n",
       "      <td>0</td>\n",
       "      <td>M</td>\n",
       "      <td>сотрудник</td>\n",
       "      <td>0</td>\n",
       "      <td>144425</td>\n",
       "      <td>покупка жилья для семьи</td>\n",
       "      <td>недвижимость</td>\n",
       "      <td>выше среднего</td>\n",
       "    </tr>\n",
       "  </tbody>\n",
       "</table>\n",
       "</div>"
      ],
      "text/plain": [
       "   children  days_employed  dob_years education  education_id  \\\n",
       "0         1           8437         42    высшее             0   \n",
       "1         1           4024         36   среднее             1   \n",
       "2         0           5623         33   среднее             1   \n",
       "3         3           4124         32   среднее             1   \n",
       "4         0         340266         53   среднее             1   \n",
       "5         0            926         27    высшее             0   \n",
       "6         0           2879         43    высшее             0   \n",
       "7         0            152         50   среднее             1   \n",
       "8         2           6929         35    высшее             0   \n",
       "9         0           2188         41   среднее             1   \n",
       "\n",
       "      family_status  family_status_id gender income_type  debt  total_income  \\\n",
       "0   женат / замужем                 0      F   сотрудник     0        253875   \n",
       "1   женат / замужем                 0      F   сотрудник     0        112080   \n",
       "2   женат / замужем                 0      M   сотрудник     0        145885   \n",
       "3   женат / замужем                 0      M   сотрудник     0        267628   \n",
       "4  гражданский брак                 1      F   пенсионер     0        158616   \n",
       "5  гражданский брак                 1      M   компаньон     0        255763   \n",
       "6   женат / замужем                 0      F   компаньон     0        240525   \n",
       "7   женат / замужем                 0      M   сотрудник     0        135823   \n",
       "8  гражданский брак                 1      F   сотрудник     0         95856   \n",
       "9   женат / замужем                 0      M   сотрудник     0        144425   \n",
       "\n",
       "                      purpose purpose_group   income_group  \n",
       "0               покупка жилья  недвижимость        богатый  \n",
       "1     приобретение автомобиля    автомобиль  выше среднего  \n",
       "2               покупка жилья  недвижимость  выше среднего  \n",
       "3  дополнительное образование   образование        богатый  \n",
       "4             сыграть свадьбу       свадьба  выше среднего  \n",
       "5               покупка жилья  недвижимость        богатый  \n",
       "6           операции с жильем  недвижимость        богатый  \n",
       "7                 образование   образование  выше среднего  \n",
       "8       на проведение свадьбы       свадьба        средний  \n",
       "9     покупка жилья для семьи  недвижимость  выше среднего  "
      ]
     },
     "execution_count": 21,
     "metadata": {},
     "output_type": "execute_result"
    }
   ],
   "source": [
    "#фунция, присваивающая выделенные категории\n",
    "\n",
    "def income_group(row):\n",
    "    if row['total_income'] <= 50000:\n",
    "        return 'бедный'\n",
    "    elif 50000 < row['total_income'] <= 100000:\n",
    "        return 'средний'\n",
    "    elif 100000 < row['total_income'] < 200000:\n",
    "        return 'выше среднего'\n",
    "    else:\n",
    "        return 'богатый'\n",
    "\n",
    "# применим функцию к столбцу доходов\n",
    "customer_table['income_group'] = customer_table.apply(income_group, axis=1)\n",
    "#вывод таблицы\n",
    "customer_table.head(10)"
   ]
  },
  {
   "cell_type": "markdown",
   "metadata": {},
   "source": [
    "Сгруппируем по количеству детей."
   ]
  },
  {
   "cell_type": "code",
   "execution_count": 22,
   "metadata": {},
   "outputs": [
    {
     "data": {
      "text/html": [
       "<div>\n",
       "<style scoped>\n",
       "    .dataframe tbody tr th:only-of-type {\n",
       "        vertical-align: middle;\n",
       "    }\n",
       "\n",
       "    .dataframe tbody tr th {\n",
       "        vertical-align: top;\n",
       "    }\n",
       "\n",
       "    .dataframe thead th {\n",
       "        text-align: right;\n",
       "    }\n",
       "</style>\n",
       "<table border=\"1\" class=\"dataframe\">\n",
       "  <thead>\n",
       "    <tr style=\"text-align: right;\">\n",
       "      <th></th>\n",
       "      <th>children</th>\n",
       "      <th>days_employed</th>\n",
       "      <th>dob_years</th>\n",
       "      <th>education</th>\n",
       "      <th>education_id</th>\n",
       "      <th>family_status</th>\n",
       "      <th>family_status_id</th>\n",
       "      <th>gender</th>\n",
       "      <th>income_type</th>\n",
       "      <th>debt</th>\n",
       "      <th>total_income</th>\n",
       "      <th>purpose</th>\n",
       "      <th>purpose_group</th>\n",
       "      <th>income_group</th>\n",
       "      <th>child_exist</th>\n",
       "    </tr>\n",
       "  </thead>\n",
       "  <tbody>\n",
       "    <tr>\n",
       "      <td>0</td>\n",
       "      <td>1</td>\n",
       "      <td>8437</td>\n",
       "      <td>42</td>\n",
       "      <td>высшее</td>\n",
       "      <td>0</td>\n",
       "      <td>женат / замужем</td>\n",
       "      <td>0</td>\n",
       "      <td>F</td>\n",
       "      <td>сотрудник</td>\n",
       "      <td>0</td>\n",
       "      <td>253875</td>\n",
       "      <td>покупка жилья</td>\n",
       "      <td>недвижимость</td>\n",
       "      <td>богатый</td>\n",
       "      <td>1</td>\n",
       "    </tr>\n",
       "    <tr>\n",
       "      <td>1</td>\n",
       "      <td>1</td>\n",
       "      <td>4024</td>\n",
       "      <td>36</td>\n",
       "      <td>среднее</td>\n",
       "      <td>1</td>\n",
       "      <td>женат / замужем</td>\n",
       "      <td>0</td>\n",
       "      <td>F</td>\n",
       "      <td>сотрудник</td>\n",
       "      <td>0</td>\n",
       "      <td>112080</td>\n",
       "      <td>приобретение автомобиля</td>\n",
       "      <td>автомобиль</td>\n",
       "      <td>выше среднего</td>\n",
       "      <td>1</td>\n",
       "    </tr>\n",
       "    <tr>\n",
       "      <td>2</td>\n",
       "      <td>0</td>\n",
       "      <td>5623</td>\n",
       "      <td>33</td>\n",
       "      <td>среднее</td>\n",
       "      <td>1</td>\n",
       "      <td>женат / замужем</td>\n",
       "      <td>0</td>\n",
       "      <td>M</td>\n",
       "      <td>сотрудник</td>\n",
       "      <td>0</td>\n",
       "      <td>145885</td>\n",
       "      <td>покупка жилья</td>\n",
       "      <td>недвижимость</td>\n",
       "      <td>выше среднего</td>\n",
       "      <td>0</td>\n",
       "    </tr>\n",
       "    <tr>\n",
       "      <td>3</td>\n",
       "      <td>3</td>\n",
       "      <td>4124</td>\n",
       "      <td>32</td>\n",
       "      <td>среднее</td>\n",
       "      <td>1</td>\n",
       "      <td>женат / замужем</td>\n",
       "      <td>0</td>\n",
       "      <td>M</td>\n",
       "      <td>сотрудник</td>\n",
       "      <td>0</td>\n",
       "      <td>267628</td>\n",
       "      <td>дополнительное образование</td>\n",
       "      <td>образование</td>\n",
       "      <td>богатый</td>\n",
       "      <td>1</td>\n",
       "    </tr>\n",
       "    <tr>\n",
       "      <td>4</td>\n",
       "      <td>0</td>\n",
       "      <td>340266</td>\n",
       "      <td>53</td>\n",
       "      <td>среднее</td>\n",
       "      <td>1</td>\n",
       "      <td>гражданский брак</td>\n",
       "      <td>1</td>\n",
       "      <td>F</td>\n",
       "      <td>пенсионер</td>\n",
       "      <td>0</td>\n",
       "      <td>158616</td>\n",
       "      <td>сыграть свадьбу</td>\n",
       "      <td>свадьба</td>\n",
       "      <td>выше среднего</td>\n",
       "      <td>0</td>\n",
       "    </tr>\n",
       "  </tbody>\n",
       "</table>\n",
       "</div>"
      ],
      "text/plain": [
       "   children  days_employed  dob_years education  education_id  \\\n",
       "0         1           8437         42    высшее             0   \n",
       "1         1           4024         36   среднее             1   \n",
       "2         0           5623         33   среднее             1   \n",
       "3         3           4124         32   среднее             1   \n",
       "4         0         340266         53   среднее             1   \n",
       "\n",
       "      family_status  family_status_id gender income_type  debt  total_income  \\\n",
       "0   женат / замужем                 0      F   сотрудник     0        253875   \n",
       "1   женат / замужем                 0      F   сотрудник     0        112080   \n",
       "2   женат / замужем                 0      M   сотрудник     0        145885   \n",
       "3   женат / замужем                 0      M   сотрудник     0        267628   \n",
       "4  гражданский брак                 1      F   пенсионер     0        158616   \n",
       "\n",
       "                      purpose purpose_group   income_group  child_exist  \n",
       "0               покупка жилья  недвижимость        богатый            1  \n",
       "1     приобретение автомобиля    автомобиль  выше среднего            1  \n",
       "2               покупка жилья  недвижимость  выше среднего            0  \n",
       "3  дополнительное образование   образование        богатый            1  \n",
       "4             сыграть свадьбу       свадьба  выше среднего            0  "
      ]
     },
     "execution_count": 22,
     "metadata": {},
     "output_type": "execute_result"
    }
   ],
   "source": [
    "# напишем функцию для категоризации клиентов: 1 — есть дети, 0 — нет детей.\n",
    "def determine_children(children):\n",
    "    if children > 0: return 1\n",
    "    else: return 0\n",
    "\n",
    "# добавим новый столбец в таблицу\n",
    "customer_table['child_exist'] = customer_table['children'].apply(determine_children)\n",
    "customer_table.head()"
   ]
  },
  {
   "cell_type": "markdown",
   "metadata": {},
   "source": [
    "**Вывод**"
   ]
  },
  {
   "cell_type": "markdown",
   "metadata": {},
   "source": [
    "Категоризация по целям.\n",
    "\n",
    "Чаще всего клиенты берут кредит для приобретения недвижимости для личного пользования."
   ]
  },
  {
   "cell_type": "code",
   "execution_count": 23,
   "metadata": {},
   "outputs": [
    {
     "data": {
      "text/plain": [
       "недвижимость    8849\n",
       "автомобиль      4306\n",
       "образование     4013\n",
       "свадьба         2324\n",
       "инвестиция      1962\n",
       "Name: purpose_group, dtype: int64"
      ]
     },
     "execution_count": 23,
     "metadata": {},
     "output_type": "execute_result"
    }
   ],
   "source": [
    "customer_table['purpose_group'].value_counts()"
   ]
  },
  {
   "cell_type": "markdown",
   "metadata": {},
   "source": [
    "Категоризация по доходам.\n",
    "\n",
    "Большая часть, запрашивающих кредит имеет доход выше среднего. "
   ]
  },
  {
   "cell_type": "code",
   "execution_count": 24,
   "metadata": {},
   "outputs": [
    {
     "data": {
      "text/plain": [
       "выше среднего    11423\n",
       "богатый           5568\n",
       "средний           4091\n",
       "бедный             372\n",
       "Name: income_group, dtype: int64"
      ]
     },
     "execution_count": 24,
     "metadata": {},
     "output_type": "execute_result"
    }
   ],
   "source": [
    "customer_table['income_group'].value_counts()"
   ]
  },
  {
   "cell_type": "markdown",
   "metadata": {},
   "source": [
    "Категоризация по количеству детей.\n",
    "\n",
    "Большинство, подавших запрос на получение кредита не имеют детей."
   ]
  },
  {
   "cell_type": "code",
   "execution_count": 25,
   "metadata": {},
   "outputs": [
    {
     "data": {
      "text/plain": [
       "0    14138\n",
       "1     7316\n",
       "Name: child_exist, dtype: int64"
      ]
     },
     "execution_count": 25,
     "metadata": {},
     "output_type": "execute_result"
    }
   ],
   "source": [
    "customer_table['child_exist'].value_counts()"
   ]
  },
  {
   "cell_type": "markdown",
   "metadata": {},
   "source": [
    "Категоризация по семейному положению.\n",
    "\n",
    "Большинство кредитов выдается людям, состояшим в официальном браке."
   ]
  },
  {
   "cell_type": "code",
   "execution_count": 26,
   "metadata": {},
   "outputs": [
    {
     "data": {
      "text/plain": [
       "женат / замужем          12339\n",
       "гражданский брак          4151\n",
       "Не женат / не замужем     2810\n",
       "в разводе                 1195\n",
       "вдовец / вдова             959\n",
       "Name: family_status, dtype: int64"
      ]
     },
     "execution_count": 26,
     "metadata": {},
     "output_type": "execute_result"
    }
   ],
   "source": [
    "customer_table['family_status'].value_counts()"
   ]
  },
  {
   "cell_type": "markdown",
   "metadata": {},
   "source": [
    "Мы категорировали данные, без которых невозможно было бы провести дальнейший анализ для ответов на поставленные в исследовании вопросы. \n",
    "Можно приступить к дальнейшему анализу уже на основе сформированных категорий."
   ]
  },
  {
   "cell_type": "markdown",
   "metadata": {},
   "source": [
    "## Шаг 3. Ответьте на вопросы"
   ]
  },
  {
   "cell_type": "markdown",
   "metadata": {},
   "source": [
    "- Есть ли зависимость между наличием детей и возвратом кредита в срок?"
   ]
  },
  {
   "cell_type": "code",
   "execution_count": 27,
   "metadata": {},
   "outputs": [
    {
     "data": {
      "text/html": [
       "<div>\n",
       "<style scoped>\n",
       "    .dataframe tbody tr th:only-of-type {\n",
       "        vertical-align: middle;\n",
       "    }\n",
       "\n",
       "    .dataframe tbody tr th {\n",
       "        vertical-align: top;\n",
       "    }\n",
       "\n",
       "    .dataframe thead th {\n",
       "        text-align: right;\n",
       "    }\n",
       "</style>\n",
       "<table border=\"1\" class=\"dataframe\">\n",
       "  <thead>\n",
       "    <tr style=\"text-align: right;\">\n",
       "      <th></th>\n",
       "      <th>debt</th>\n",
       "    </tr>\n",
       "    <tr>\n",
       "      <th>child_exist</th>\n",
       "      <th></th>\n",
       "    </tr>\n",
       "  </thead>\n",
       "  <tbody>\n",
       "    <tr>\n",
       "      <td>0</td>\n",
       "      <td>0.075258</td>\n",
       "    </tr>\n",
       "    <tr>\n",
       "      <td>1</td>\n",
       "      <td>0.092537</td>\n",
       "    </tr>\n",
       "  </tbody>\n",
       "</table>\n",
       "</div>"
      ],
      "text/plain": [
       "                 debt\n",
       "child_exist          \n",
       "0            0.075258\n",
       "1            0.092537"
      ]
     },
     "execution_count": 27,
     "metadata": {},
     "output_type": "execute_result"
    }
   ],
   "source": [
    "# построим сводную таблицу\n",
    "child_table_pivot = customer_table.pivot_table(index = ['child_exist'], values = 'debt')\n",
    "\n",
    "child_table_pivot.head()"
   ]
  },
  {
   "cell_type": "markdown",
   "metadata": {},
   "source": [
    "**Вывод**"
   ]
  },
  {
   "cell_type": "markdown",
   "metadata": {},
   "source": [
    "Судя по  сводной таблице, менее склонны к невыплатам кредита клиенты, не имеющие детей. \n",
    "Это можно объяснить тем, что в сложном материальном положении в семьях с детьми приоритетнее выступает вопрос обеспечения семьи необходимыми средствами существования, задолженность по кредиту уходит на задний план."
   ]
  },
  {
   "cell_type": "markdown",
   "metadata": {},
   "source": [
    "- Есть ли зависимость между семейным положением и возвратом кредита в срок?"
   ]
  },
  {
   "cell_type": "code",
   "execution_count": 28,
   "metadata": {},
   "outputs": [
    {
     "data": {
      "text/html": [
       "<div>\n",
       "<style scoped>\n",
       "    .dataframe tbody tr th:only-of-type {\n",
       "        vertical-align: middle;\n",
       "    }\n",
       "\n",
       "    .dataframe tbody tr th {\n",
       "        vertical-align: top;\n",
       "    }\n",
       "\n",
       "    .dataframe thead th {\n",
       "        text-align: right;\n",
       "    }\n",
       "</style>\n",
       "<table border=\"1\" class=\"dataframe\">\n",
       "  <thead>\n",
       "    <tr style=\"text-align: right;\">\n",
       "      <th></th>\n",
       "      <th>debt</th>\n",
       "    </tr>\n",
       "    <tr>\n",
       "      <th>family_status</th>\n",
       "      <th></th>\n",
       "    </tr>\n",
       "  </thead>\n",
       "  <tbody>\n",
       "    <tr>\n",
       "      <td>Не женат / не замужем</td>\n",
       "      <td>0.097509</td>\n",
       "    </tr>\n",
       "    <tr>\n",
       "      <td>в разводе</td>\n",
       "      <td>0.071130</td>\n",
       "    </tr>\n",
       "    <tr>\n",
       "      <td>вдовец / вдова</td>\n",
       "      <td>0.065693</td>\n",
       "    </tr>\n",
       "    <tr>\n",
       "      <td>гражданский брак</td>\n",
       "      <td>0.093471</td>\n",
       "    </tr>\n",
       "    <tr>\n",
       "      <td>женат / замужем</td>\n",
       "      <td>0.075452</td>\n",
       "    </tr>\n",
       "  </tbody>\n",
       "</table>\n",
       "</div>"
      ],
      "text/plain": [
       "                           debt\n",
       "family_status                  \n",
       "Не женат / не замужем  0.097509\n",
       "в разводе              0.071130\n",
       "вдовец / вдова         0.065693\n",
       "гражданский брак       0.093471\n",
       "женат / замужем        0.075452"
      ]
     },
     "execution_count": 28,
     "metadata": {},
     "output_type": "execute_result"
    }
   ],
   "source": [
    "#построим сводную таблицу по задолженности и семейному статусу\n",
    "family_pivot = customer_table.pivot_table(index = ['family_status'],  values = 'debt')\n",
    "family_pivot.head(10)\n"
   ]
  },
  {
   "cell_type": "markdown",
   "metadata": {},
   "source": [
    "**Вывод**"
   ]
  },
  {
   "cell_type": "markdown",
   "metadata": {},
   "source": [
    "Клиенты, никогда не состоящие в официальном браке, более склонны к просрочке по выплатам кредита."
   ]
  },
  {
   "cell_type": "markdown",
   "metadata": {},
   "source": [
    "- Есть ли зависимость между уровнем дохода и возвратом кредита в срок?"
   ]
  },
  {
   "cell_type": "code",
   "execution_count": 29,
   "metadata": {},
   "outputs": [
    {
     "data": {
      "text/html": [
       "<div>\n",
       "<style scoped>\n",
       "    .dataframe tbody tr th:only-of-type {\n",
       "        vertical-align: middle;\n",
       "    }\n",
       "\n",
       "    .dataframe tbody tr th {\n",
       "        vertical-align: top;\n",
       "    }\n",
       "\n",
       "    .dataframe thead th {\n",
       "        text-align: right;\n",
       "    }\n",
       "</style>\n",
       "<table border=\"1\" class=\"dataframe\">\n",
       "  <thead>\n",
       "    <tr style=\"text-align: right;\">\n",
       "      <th></th>\n",
       "      <th>debt</th>\n",
       "    </tr>\n",
       "    <tr>\n",
       "      <th>income_group</th>\n",
       "      <th></th>\n",
       "    </tr>\n",
       "  </thead>\n",
       "  <tbody>\n",
       "    <tr>\n",
       "      <td>бедный</td>\n",
       "      <td>0.061828</td>\n",
       "    </tr>\n",
       "    <tr>\n",
       "      <td>богатый</td>\n",
       "      <td>0.069684</td>\n",
       "    </tr>\n",
       "    <tr>\n",
       "      <td>выше среднего</td>\n",
       "      <td>0.087455</td>\n",
       "    </tr>\n",
       "    <tr>\n",
       "      <td>средний</td>\n",
       "      <td>0.080909</td>\n",
       "    </tr>\n",
       "  </tbody>\n",
       "</table>\n",
       "</div>"
      ],
      "text/plain": [
       "                   debt\n",
       "income_group           \n",
       "бедный         0.061828\n",
       "богатый        0.069684\n",
       "выше среднего  0.087455\n",
       "средний        0.080909"
      ]
     },
     "execution_count": 29,
     "metadata": {},
     "output_type": "execute_result"
    }
   ],
   "source": [
    "#построим сводную таблицу по задолженности и уровню дохода\n",
    "income_pivot = customer_table.pivot_table(index = ['income_group'], values = 'debt')\n",
    "income_pivot"
   ]
  },
  {
   "cell_type": "markdown",
   "metadata": {},
   "source": [
    "**Вывод**"
   ]
  },
  {
   "cell_type": "markdown",
   "metadata": {},
   "source": [
    "Факт того, что низкий уровень задолженностей наблюдается у людей, имеющих наивысший доход понятен. У этой категории практически не возникает проблем с финансами. Вместе с тем удивляет тот факт, что люди с наименьшим уровнем дохода реже оказываются в должниках. Это можно объяснить только тем, что люди с низким доходом более ответственно подходят к распределению расходов."
   ]
  },
  {
   "cell_type": "markdown",
   "metadata": {},
   "source": [
    "- Как разные цели кредита влияют на его возврат в срок?"
   ]
  },
  {
   "cell_type": "code",
   "execution_count": 30,
   "metadata": {},
   "outputs": [
    {
     "data": {
      "text/html": [
       "<div>\n",
       "<style scoped>\n",
       "    .dataframe tbody tr th:only-of-type {\n",
       "        vertical-align: middle;\n",
       "    }\n",
       "\n",
       "    .dataframe tbody tr th {\n",
       "        vertical-align: top;\n",
       "    }\n",
       "\n",
       "    .dataframe thead th {\n",
       "        text-align: right;\n",
       "    }\n",
       "</style>\n",
       "<table border=\"1\" class=\"dataframe\">\n",
       "  <thead>\n",
       "    <tr style=\"text-align: right;\">\n",
       "      <th></th>\n",
       "      <th>debt</th>\n",
       "    </tr>\n",
       "    <tr>\n",
       "      <th>purpose_group</th>\n",
       "      <th></th>\n",
       "    </tr>\n",
       "  </thead>\n",
       "  <tbody>\n",
       "    <tr>\n",
       "      <td>автомобиль</td>\n",
       "      <td>0.093590</td>\n",
       "    </tr>\n",
       "    <tr>\n",
       "      <td>инвестиция</td>\n",
       "      <td>0.076962</td>\n",
       "    </tr>\n",
       "    <tr>\n",
       "      <td>недвижимость</td>\n",
       "      <td>0.071307</td>\n",
       "    </tr>\n",
       "    <tr>\n",
       "      <td>образование</td>\n",
       "      <td>0.092200</td>\n",
       "    </tr>\n",
       "    <tr>\n",
       "      <td>свадьба</td>\n",
       "      <td>0.080034</td>\n",
       "    </tr>\n",
       "  </tbody>\n",
       "</table>\n",
       "</div>"
      ],
      "text/plain": [
       "                   debt\n",
       "purpose_group          \n",
       "автомобиль     0.093590\n",
       "инвестиция     0.076962\n",
       "недвижимость   0.071307\n",
       "образование    0.092200\n",
       "свадьба        0.080034"
      ]
     },
     "execution_count": 30,
     "metadata": {},
     "output_type": "execute_result"
    }
   ],
   "source": [
    "#построим сводную таблицу по задолженности и целям кредита\n",
    "purpose_pivot = customer_table.pivot_table(index = ['purpose_group'], values = 'debt')\n",
    "purpose_pivot"
   ]
  },
  {
   "cell_type": "markdown",
   "metadata": {},
   "source": [
    "**Вывод**"
   ]
  },
  {
   "cell_type": "markdown",
   "metadata": {},
   "source": [
    "Заемщики, которые берут кредит для приобретения недвижимости, проявляют себя более ответственно и реже имеют задолженности.\n",
    "Неожиданный факт: клиенты, берущие кредит на свадьбу, не самые безответственные."
   ]
  },
  {
   "cell_type": "markdown",
   "metadata": {},
   "source": [
    "## Шаг 4. Общий вывод"
   ]
  },
  {
   "cell_type": "markdown",
   "metadata": {},
   "source": [
    "Для описания идеального  клиента интересно было бы в будущем дополнительно посмотреть на зависимость от пола. \n",
    "Но исходя из данных,  по которым мы провели анализ можно сказать следующее.\n",
    "Идеальный портрет клиента - это человек, находящийся в официальном браке, без детей, с доходом более 200000 рублей в месяц, желающий с помощью кредитных средств приобрести собственное жилье.\n"
   ]
  }
 ],
 "metadata": {
  "ExecuteTimeLog": [
   {
    "duration": 1158,
    "start_time": "2021-11-26T19:29:54.051Z"
   },
   {
    "duration": 49,
    "start_time": "2021-11-26T19:31:44.527Z"
   },
   {
    "duration": 54,
    "start_time": "2021-11-26T19:32:34.197Z"
   },
   {
    "duration": -6707,
    "start_time": "2021-11-26T19:33:01.765Z"
   },
   {
    "duration": -6783,
    "start_time": "2021-11-26T19:33:01.842Z"
   },
   {
    "duration": 255,
    "start_time": "2021-11-26T19:33:03.797Z"
   },
   {
    "duration": 1112,
    "start_time": "2021-11-26T19:33:06.275Z"
   },
   {
    "duration": 61,
    "start_time": "2021-11-26T19:33:08.607Z"
   },
   {
    "duration": 11,
    "start_time": "2021-11-26T19:33:58.445Z"
   },
   {
    "duration": 54,
    "start_time": "2021-11-26T19:44:36.779Z"
   },
   {
    "duration": 55,
    "start_time": "2021-11-26T19:44:38.308Z"
   },
   {
    "duration": 3,
    "start_time": "2021-11-26T19:54:12.982Z"
   },
   {
    "duration": 1145,
    "start_time": "2021-11-26T19:55:59.663Z"
   },
   {
    "duration": 454,
    "start_time": "2021-11-26T19:56:00.810Z"
   },
   {
    "duration": -73636,
    "start_time": "2021-11-26T19:57:14.901Z"
   },
   {
    "duration": 353,
    "start_time": "2021-11-27T11:02:31.305Z"
   },
   {
    "duration": 1553,
    "start_time": "2021-11-27T11:02:33.882Z"
   },
   {
    "duration": 416,
    "start_time": "2021-11-27T11:02:37.150Z"
   },
   {
    "duration": 1565,
    "start_time": "2021-11-27T11:02:44.078Z"
   },
   {
    "duration": 481,
    "start_time": "2021-11-27T11:02:45.646Z"
   },
   {
    "duration": -66,
    "start_time": "2021-11-27T11:02:46.196Z"
   },
   {
    "duration": 352,
    "start_time": "2021-11-27T11:02:51.545Z"
   },
   {
    "duration": 3,
    "start_time": "2021-11-27T11:02:55.017Z"
   },
   {
    "duration": 344,
    "start_time": "2021-11-27T11:02:56.469Z"
   },
   {
    "duration": 4,
    "start_time": "2021-11-27T11:04:39.501Z"
   },
   {
    "duration": 349,
    "start_time": "2021-11-27T11:04:40.528Z"
   },
   {
    "duration": 4,
    "start_time": "2021-11-27T11:04:46.644Z"
   },
   {
    "duration": 1610,
    "start_time": "2021-11-27T11:04:52.824Z"
   },
   {
    "duration": 513,
    "start_time": "2021-11-27T11:04:54.437Z"
   },
   {
    "duration": -40,
    "start_time": "2021-11-27T11:04:54.993Z"
   },
   {
    "duration": 4,
    "start_time": "2021-11-27T11:05:04.992Z"
   },
   {
    "duration": 1666,
    "start_time": "2021-11-27T11:05:11.854Z"
   },
   {
    "duration": 506,
    "start_time": "2021-11-27T11:05:13.523Z"
   },
   {
    "duration": -44,
    "start_time": "2021-11-27T11:05:14.076Z"
   },
   {
    "duration": 1533,
    "start_time": "2021-11-27T11:05:32.807Z"
   },
   {
    "duration": 631,
    "start_time": "2021-11-27T11:05:34.343Z"
   },
   {
    "duration": -41,
    "start_time": "2021-11-27T11:05:35.018Z"
   },
   {
    "duration": 5,
    "start_time": "2021-11-27T11:06:13.721Z"
   },
   {
    "duration": 1576,
    "start_time": "2021-11-27T11:06:18.852Z"
   },
   {
    "duration": 471,
    "start_time": "2021-11-27T11:06:20.431Z"
   },
   {
    "duration": -40,
    "start_time": "2021-11-27T11:06:20.945Z"
   },
   {
    "duration": 94,
    "start_time": "2021-11-27T11:06:34.238Z"
   },
   {
    "duration": 265,
    "start_time": "2021-11-27T11:12:05.217Z"
   },
   {
    "duration": 82,
    "start_time": "2021-11-27T11:12:07.909Z"
   },
   {
    "duration": 16,
    "start_time": "2021-11-27T11:12:17.897Z"
   },
   {
    "duration": 8,
    "start_time": "2021-11-27T12:12:10.982Z"
   },
   {
    "duration": 7,
    "start_time": "2021-11-27T12:12:40.310Z"
   },
   {
    "duration": 317,
    "start_time": "2021-11-27T12:13:11.676Z"
   },
   {
    "duration": 271,
    "start_time": "2021-11-27T12:13:14.408Z"
   },
   {
    "duration": 543,
    "start_time": "2021-11-27T19:07:29.067Z"
   },
   {
    "duration": 374,
    "start_time": "2021-11-27T19:07:36.098Z"
   },
   {
    "duration": 1590,
    "start_time": "2021-11-27T19:07:39.664Z"
   },
   {
    "duration": 64,
    "start_time": "2021-11-27T19:07:41.256Z"
   },
   {
    "duration": 33,
    "start_time": "2021-11-27T19:07:42.110Z"
   },
   {
    "duration": 875,
    "start_time": "2021-11-27T19:16:05.662Z"
   },
   {
    "duration": 386,
    "start_time": "2021-11-27T19:16:18.756Z"
   },
   {
    "duration": 1546,
    "start_time": "2021-11-27T19:16:28.698Z"
   },
   {
    "duration": 67,
    "start_time": "2021-11-27T19:16:30.247Z"
   },
   {
    "duration": 32,
    "start_time": "2021-11-27T19:16:30.317Z"
   },
   {
    "duration": 39,
    "start_time": "2021-11-27T19:16:30.351Z"
   },
   {
    "duration": 511,
    "start_time": "2021-11-27T19:16:30.393Z"
   },
   {
    "duration": 5,
    "start_time": "2021-11-27T19:16:58.677Z"
   },
   {
    "duration": 22,
    "start_time": "2021-11-27T19:17:36.605Z"
   },
   {
    "duration": 11,
    "start_time": "2021-11-27T19:30:57.241Z"
   },
   {
    "duration": 15,
    "start_time": "2021-11-27T19:36:40.247Z"
   },
   {
    "duration": 16,
    "start_time": "2021-11-27T19:37:08.380Z"
   },
   {
    "duration": 353,
    "start_time": "2021-11-27T19:44:06.135Z"
   },
   {
    "duration": 1555,
    "start_time": "2021-11-27T19:44:25.499Z"
   },
   {
    "duration": 67,
    "start_time": "2021-11-27T19:44:27.056Z"
   },
   {
    "duration": 32,
    "start_time": "2021-11-27T19:44:27.126Z"
   },
   {
    "duration": 15,
    "start_time": "2021-11-27T19:44:27.161Z"
   },
   {
    "duration": 42,
    "start_time": "2021-11-27T19:44:27.178Z"
   },
   {
    "duration": 538,
    "start_time": "2021-11-27T19:44:27.222Z"
   },
   {
    "duration": 356,
    "start_time": "2021-11-27T19:46:22.181Z"
   },
   {
    "duration": 20,
    "start_time": "2021-11-27T19:46:54.502Z"
   },
   {
    "duration": 20,
    "start_time": "2021-11-27T19:47:02.730Z"
   },
   {
    "duration": 36,
    "start_time": "2021-11-27T19:47:32.563Z"
   },
   {
    "duration": 40,
    "start_time": "2021-11-27T19:47:46.003Z"
   },
   {
    "duration": 39,
    "start_time": "2021-11-27T19:47:54.704Z"
   },
   {
    "duration": 20,
    "start_time": "2021-11-27T19:48:25.336Z"
   },
   {
    "duration": 19,
    "start_time": "2021-11-27T19:48:29.863Z"
   },
   {
    "duration": 20,
    "start_time": "2021-11-27T19:49:10.429Z"
   },
   {
    "duration": 1697,
    "start_time": "2021-11-27T19:49:17.450Z"
   },
   {
    "duration": 72,
    "start_time": "2021-11-27T19:49:19.150Z"
   },
   {
    "duration": 51,
    "start_time": "2021-11-27T19:49:19.226Z"
   },
   {
    "duration": 44,
    "start_time": "2021-11-27T19:49:19.280Z"
   },
   {
    "duration": 57,
    "start_time": "2021-11-27T19:49:19.328Z"
   },
   {
    "duration": 24,
    "start_time": "2021-11-27T19:49:19.388Z"
   },
   {
    "duration": 22,
    "start_time": "2021-11-27T19:49:39.070Z"
   },
   {
    "duration": 16,
    "start_time": "2021-11-27T19:50:49.303Z"
   },
   {
    "duration": 21,
    "start_time": "2021-11-27T19:51:06.317Z"
   },
   {
    "duration": 22,
    "start_time": "2021-11-27T19:52:00.484Z"
   },
   {
    "duration": 20,
    "start_time": "2021-11-27T19:52:03.510Z"
   },
   {
    "duration": 21,
    "start_time": "2021-11-27T19:52:05.600Z"
   },
   {
    "duration": 21,
    "start_time": "2021-11-27T19:52:10.759Z"
   },
   {
    "duration": 20,
    "start_time": "2021-11-27T19:52:28.873Z"
   },
   {
    "duration": 14,
    "start_time": "2021-11-27T19:53:14.711Z"
   },
   {
    "duration": 14,
    "start_time": "2021-11-27T19:53:23.428Z"
   },
   {
    "duration": 13,
    "start_time": "2021-11-27T19:53:27.413Z"
   },
   {
    "duration": 14,
    "start_time": "2021-11-27T19:53:30.140Z"
   },
   {
    "duration": 41,
    "start_time": "2021-11-27T19:58:16.677Z"
   },
   {
    "duration": 15,
    "start_time": "2021-11-27T19:58:26.920Z"
   },
   {
    "duration": 40,
    "start_time": "2021-11-27T19:58:27.969Z"
   },
   {
    "duration": 26,
    "start_time": "2021-11-27T19:58:43.842Z"
   },
   {
    "duration": 25,
    "start_time": "2021-11-27T20:00:00.828Z"
   },
   {
    "duration": 40,
    "start_time": "2021-11-27T20:00:19.843Z"
   },
   {
    "duration": 15,
    "start_time": "2021-11-27T20:00:31.850Z"
   },
   {
    "duration": 29,
    "start_time": "2021-11-27T20:10:20.268Z"
   },
   {
    "duration": 15,
    "start_time": "2021-11-27T20:10:25.199Z"
   },
   {
    "duration": 14,
    "start_time": "2021-11-27T20:12:51.692Z"
   },
   {
    "duration": 22,
    "start_time": "2021-11-27T20:13:45.596Z"
   },
   {
    "duration": 23,
    "start_time": "2021-11-27T21:29:13.995Z"
   },
   {
    "duration": 16,
    "start_time": "2021-11-27T21:29:18.175Z"
   },
   {
    "duration": 22,
    "start_time": "2021-11-27T21:29:22.426Z"
   },
   {
    "duration": 18,
    "start_time": "2021-11-27T21:29:26.902Z"
   },
   {
    "duration": 37,
    "start_time": "2021-11-27T21:29:37.543Z"
   },
   {
    "duration": 493,
    "start_time": "2021-11-27T21:48:25.899Z"
   },
   {
    "duration": 363,
    "start_time": "2021-11-27T21:48:34.390Z"
   },
   {
    "duration": 7,
    "start_time": "2021-11-27T21:48:45.263Z"
   },
   {
    "duration": 29,
    "start_time": "2021-11-27T21:52:20.698Z"
   },
   {
    "duration": 118,
    "start_time": "2021-11-27T21:55:01.351Z"
   },
   {
    "duration": 25,
    "start_time": "2021-11-27T21:56:09.565Z"
   },
   {
    "duration": 48,
    "start_time": "2021-11-27T21:56:54.531Z"
   },
   {
    "duration": 1100,
    "start_time": "2021-11-28T09:59:09.392Z"
   },
   {
    "duration": 48,
    "start_time": "2021-11-28T09:59:10.494Z"
   },
   {
    "duration": 19,
    "start_time": "2021-11-28T09:59:10.543Z"
   },
   {
    "duration": 38,
    "start_time": "2021-11-28T09:59:10.564Z"
   },
   {
    "duration": 23,
    "start_time": "2021-11-28T09:59:10.603Z"
   },
   {
    "duration": 17,
    "start_time": "2021-11-28T09:59:10.628Z"
   },
   {
    "duration": 10,
    "start_time": "2021-11-28T09:59:10.647Z"
   },
   {
    "duration": 12,
    "start_time": "2021-11-28T09:59:10.659Z"
   },
   {
    "duration": 22,
    "start_time": "2021-11-28T09:59:10.672Z"
   },
   {
    "duration": 5,
    "start_time": "2021-11-28T09:59:10.695Z"
   },
   {
    "duration": 5,
    "start_time": "2021-11-28T09:59:10.701Z"
   },
   {
    "duration": 42,
    "start_time": "2021-11-28T09:59:10.708Z"
   },
   {
    "duration": 26,
    "start_time": "2021-11-28T09:59:10.752Z"
   },
   {
    "duration": 12,
    "start_time": "2021-11-28T10:03:11.639Z"
   },
   {
    "duration": 3774,
    "start_time": "2021-11-28T10:29:58.328Z"
   },
   {
    "duration": 3553,
    "start_time": "2021-11-28T10:30:49.773Z"
   },
   {
    "duration": 3407,
    "start_time": "2021-11-28T10:31:26.585Z"
   },
   {
    "duration": 34,
    "start_time": "2021-11-28T10:38:15.544Z"
   },
   {
    "duration": 7,
    "start_time": "2021-11-28T10:39:52.350Z"
   },
   {
    "duration": 3658,
    "start_time": "2021-11-28T10:49:53.413Z"
   },
   {
    "duration": 2834,
    "start_time": "2021-11-28T10:50:11.619Z"
   },
   {
    "duration": 7,
    "start_time": "2021-11-28T10:51:37.606Z"
   },
   {
    "duration": 7,
    "start_time": "2021-11-28T10:58:01.660Z"
   },
   {
    "duration": 15,
    "start_time": "2021-11-28T10:58:04.400Z"
   },
   {
    "duration": 14,
    "start_time": "2021-11-28T10:58:11.776Z"
   },
   {
    "duration": 14,
    "start_time": "2021-11-28T11:02:01.797Z"
   },
   {
    "duration": 7,
    "start_time": "2021-11-28T11:02:03.399Z"
   },
   {
    "duration": 7,
    "start_time": "2021-11-28T11:02:41.712Z"
   },
   {
    "duration": 13,
    "start_time": "2021-11-28T11:02:44.518Z"
   },
   {
    "duration": 7,
    "start_time": "2021-11-28T11:02:46.232Z"
   },
   {
    "duration": 1185,
    "start_time": "2021-11-28T11:02:53.674Z"
   },
   {
    "duration": 47,
    "start_time": "2021-11-28T11:02:54.861Z"
   },
   {
    "duration": 20,
    "start_time": "2021-11-28T11:02:54.910Z"
   },
   {
    "duration": 20,
    "start_time": "2021-11-28T11:02:54.932Z"
   },
   {
    "duration": 15,
    "start_time": "2021-11-28T11:02:54.953Z"
   },
   {
    "duration": 18,
    "start_time": "2021-11-28T11:02:54.970Z"
   },
   {
    "duration": 11,
    "start_time": "2021-11-28T11:02:54.989Z"
   },
   {
    "duration": 13,
    "start_time": "2021-11-28T11:02:55.001Z"
   },
   {
    "duration": 48,
    "start_time": "2021-11-28T11:02:55.016Z"
   },
   {
    "duration": 4,
    "start_time": "2021-11-28T11:02:55.066Z"
   },
   {
    "duration": 11,
    "start_time": "2021-11-28T11:02:55.071Z"
   },
   {
    "duration": 16,
    "start_time": "2021-11-28T11:02:55.083Z"
   },
   {
    "duration": 21,
    "start_time": "2021-11-28T11:02:55.101Z"
   },
   {
    "duration": 50,
    "start_time": "2021-11-28T11:02:55.123Z"
   },
   {
    "duration": 7,
    "start_time": "2021-11-28T11:02:55.174Z"
   },
   {
    "duration": 1399,
    "start_time": "2021-11-28T11:02:55.182Z"
   },
   {
    "duration": -49,
    "start_time": "2021-11-28T11:02:56.632Z"
   },
   {
    "duration": -53,
    "start_time": "2021-11-28T11:02:56.637Z"
   },
   {
    "duration": -56,
    "start_time": "2021-11-28T11:02:56.641Z"
   },
   {
    "duration": 1344,
    "start_time": "2021-11-28T11:03:18.511Z"
   },
   {
    "duration": 1095,
    "start_time": "2021-11-28T11:03:36.000Z"
   },
   {
    "duration": 48,
    "start_time": "2021-11-28T11:03:37.097Z"
   },
   {
    "duration": 20,
    "start_time": "2021-11-28T11:03:37.147Z"
   },
   {
    "duration": 20,
    "start_time": "2021-11-28T11:03:37.168Z"
   },
   {
    "duration": 28,
    "start_time": "2021-11-28T11:03:37.190Z"
   },
   {
    "duration": 36,
    "start_time": "2021-11-28T11:03:37.219Z"
   },
   {
    "duration": 24,
    "start_time": "2021-11-28T11:03:37.256Z"
   },
   {
    "duration": 37,
    "start_time": "2021-11-28T11:03:37.283Z"
   },
   {
    "duration": 49,
    "start_time": "2021-11-28T11:03:37.322Z"
   },
   {
    "duration": 32,
    "start_time": "2021-11-28T11:03:37.373Z"
   },
   {
    "duration": 37,
    "start_time": "2021-11-28T11:03:37.406Z"
   },
   {
    "duration": 33,
    "start_time": "2021-11-28T11:03:37.445Z"
   },
   {
    "duration": 42,
    "start_time": "2021-11-28T11:03:37.480Z"
   },
   {
    "duration": 45,
    "start_time": "2021-11-28T11:03:37.524Z"
   },
   {
    "duration": 8,
    "start_time": "2021-11-28T11:03:37.571Z"
   },
   {
    "duration": 1407,
    "start_time": "2021-11-28T11:03:37.581Z"
   },
   {
    "duration": -147,
    "start_time": "2021-11-28T11:03:39.136Z"
   },
   {
    "duration": -157,
    "start_time": "2021-11-28T11:03:39.147Z"
   },
   {
    "duration": -165,
    "start_time": "2021-11-28T11:03:39.156Z"
   },
   {
    "duration": 3560,
    "start_time": "2021-11-28T11:04:25.662Z"
   },
   {
    "duration": 1114,
    "start_time": "2021-11-28T11:05:55.481Z"
   },
   {
    "duration": 49,
    "start_time": "2021-11-28T11:05:56.597Z"
   },
   {
    "duration": 20,
    "start_time": "2021-11-28T11:05:56.648Z"
   },
   {
    "duration": 17,
    "start_time": "2021-11-28T11:05:56.670Z"
   },
   {
    "duration": 20,
    "start_time": "2021-11-28T11:05:56.689Z"
   },
   {
    "duration": 24,
    "start_time": "2021-11-28T11:05:56.710Z"
   },
   {
    "duration": 19,
    "start_time": "2021-11-28T11:05:56.735Z"
   },
   {
    "duration": 38,
    "start_time": "2021-11-28T11:05:56.757Z"
   },
   {
    "duration": 38,
    "start_time": "2021-11-28T11:05:56.797Z"
   },
   {
    "duration": 24,
    "start_time": "2021-11-28T11:05:56.837Z"
   },
   {
    "duration": 20,
    "start_time": "2021-11-28T11:05:56.862Z"
   },
   {
    "duration": 14,
    "start_time": "2021-11-28T11:05:56.884Z"
   },
   {
    "duration": 22,
    "start_time": "2021-11-28T11:05:56.899Z"
   },
   {
    "duration": 29,
    "start_time": "2021-11-28T11:05:56.923Z"
   },
   {
    "duration": 8,
    "start_time": "2021-11-28T11:05:56.954Z"
   },
   {
    "duration": 3443,
    "start_time": "2021-11-28T11:05:56.964Z"
   },
   {
    "duration": 7,
    "start_time": "2021-11-28T11:06:00.409Z"
   },
   {
    "duration": 32,
    "start_time": "2021-11-28T11:06:00.418Z"
   },
   {
    "duration": 7,
    "start_time": "2021-11-28T11:06:00.451Z"
   },
   {
    "duration": 2925,
    "start_time": "2021-11-28T11:13:02.740Z"
   },
   {
    "duration": 2916,
    "start_time": "2021-11-28T11:13:06.283Z"
   },
   {
    "duration": 12,
    "start_time": "2021-11-28T11:15:56.031Z"
   },
   {
    "duration": 20,
    "start_time": "2021-11-28T11:37:30.262Z"
   },
   {
    "duration": 19,
    "start_time": "2021-11-28T11:38:11.178Z"
   },
   {
    "duration": 18,
    "start_time": "2021-11-28T11:39:58.312Z"
   },
   {
    "duration": 4,
    "start_time": "2021-11-28T11:42:43.626Z"
   },
   {
    "duration": 5,
    "start_time": "2021-11-28T11:42:55.464Z"
   },
   {
    "duration": 5,
    "start_time": "2021-11-28T11:43:10.712Z"
   },
   {
    "duration": 5,
    "start_time": "2021-11-28T11:43:42.260Z"
   },
   {
    "duration": 5,
    "start_time": "2021-11-28T11:47:24.975Z"
   },
   {
    "duration": 5,
    "start_time": "2021-11-28T11:47:28.630Z"
   },
   {
    "duration": 4,
    "start_time": "2021-11-28T11:47:40.707Z"
   },
   {
    "duration": 5,
    "start_time": "2021-11-28T11:47:45.885Z"
   },
   {
    "duration": 5,
    "start_time": "2021-11-28T11:49:52.764Z"
   },
   {
    "duration": 140,
    "start_time": "2021-11-28T11:51:12.243Z"
   },
   {
    "duration": 5,
    "start_time": "2021-11-28T11:51:34.901Z"
   },
   {
    "duration": 4,
    "start_time": "2021-11-28T11:52:00.517Z"
   },
   {
    "duration": 8,
    "start_time": "2021-11-28T11:56:08.484Z"
   },
   {
    "duration": 6,
    "start_time": "2021-11-28T12:04:16.016Z"
   },
   {
    "duration": 87,
    "start_time": "2021-11-28T12:04:24.188Z"
   },
   {
    "duration": 9,
    "start_time": "2021-11-28T12:04:34.740Z"
   },
   {
    "duration": 5,
    "start_time": "2021-11-28T12:06:48.158Z"
   },
   {
    "duration": 1316,
    "start_time": "2021-11-28T12:09:36.334Z"
   },
   {
    "duration": 600,
    "start_time": "2021-11-28T12:10:04.240Z"
   },
   {
    "duration": 575,
    "start_time": "2021-11-28T12:15:37.590Z"
   },
   {
    "duration": 1317,
    "start_time": "2021-11-28T12:22:13.769Z"
   },
   {
    "duration": 1374,
    "start_time": "2021-11-28T12:25:42.358Z"
   },
   {
    "duration": 4012,
    "start_time": "2021-11-28T12:27:17.741Z"
   },
   {
    "duration": 8,
    "start_time": "2021-11-28T12:29:53.990Z"
   },
   {
    "duration": 615,
    "start_time": "2021-11-28T12:30:54.008Z"
   },
   {
    "duration": 8,
    "start_time": "2021-11-28T12:34:29.622Z"
   },
   {
    "duration": 6,
    "start_time": "2021-11-28T12:34:52.369Z"
   },
   {
    "duration": 8,
    "start_time": "2021-11-28T12:34:58.026Z"
   },
   {
    "duration": 4,
    "start_time": "2021-11-28T12:38:01.290Z"
   },
   {
    "duration": 3774,
    "start_time": "2021-11-28T12:40:01.469Z"
   },
   {
    "duration": 265,
    "start_time": "2021-11-28T12:40:27.332Z"
   },
   {
    "duration": 6,
    "start_time": "2021-11-28T12:56:35.302Z"
   },
   {
    "duration": 8,
    "start_time": "2021-11-28T12:56:46.078Z"
   },
   {
    "duration": 7,
    "start_time": "2021-11-28T13:05:40.616Z"
   },
   {
    "duration": 7,
    "start_time": "2021-11-28T13:08:12.647Z"
   },
   {
    "duration": 1143,
    "start_time": "2021-11-28T13:08:57.564Z"
   },
   {
    "duration": 50,
    "start_time": "2021-11-28T13:08:58.709Z"
   },
   {
    "duration": 19,
    "start_time": "2021-11-28T13:08:58.761Z"
   },
   {
    "duration": 11,
    "start_time": "2021-11-28T13:08:58.782Z"
   },
   {
    "duration": 14,
    "start_time": "2021-11-28T13:08:58.795Z"
   },
   {
    "duration": 38,
    "start_time": "2021-11-28T13:08:58.810Z"
   },
   {
    "duration": 10,
    "start_time": "2021-11-28T13:08:58.850Z"
   },
   {
    "duration": 17,
    "start_time": "2021-11-28T13:08:58.863Z"
   },
   {
    "duration": 22,
    "start_time": "2021-11-28T13:08:58.882Z"
   },
   {
    "duration": 10,
    "start_time": "2021-11-28T13:08:58.906Z"
   },
   {
    "duration": 7,
    "start_time": "2021-11-28T13:08:58.918Z"
   },
   {
    "duration": 28,
    "start_time": "2021-11-28T13:08:58.926Z"
   },
   {
    "duration": 20,
    "start_time": "2021-11-28T13:08:58.955Z"
   },
   {
    "duration": 30,
    "start_time": "2021-11-28T13:08:58.977Z"
   },
   {
    "duration": 7,
    "start_time": "2021-11-28T13:08:59.008Z"
   },
   {
    "duration": 1451,
    "start_time": "2021-11-28T13:08:59.017Z"
   },
   {
    "duration": -37,
    "start_time": "2021-11-28T13:09:00.507Z"
   },
   {
    "duration": -39,
    "start_time": "2021-11-28T13:09:00.510Z"
   },
   {
    "duration": -41,
    "start_time": "2021-11-28T13:09:00.513Z"
   },
   {
    "duration": -43,
    "start_time": "2021-11-28T13:09:00.516Z"
   },
   {
    "duration": -45,
    "start_time": "2021-11-28T13:09:00.520Z"
   },
   {
    "duration": -47,
    "start_time": "2021-11-28T13:09:00.523Z"
   },
   {
    "duration": -49,
    "start_time": "2021-11-28T13:09:00.526Z"
   },
   {
    "duration": -51,
    "start_time": "2021-11-28T13:09:00.529Z"
   },
   {
    "duration": -53,
    "start_time": "2021-11-28T13:09:00.532Z"
   },
   {
    "duration": -54,
    "start_time": "2021-11-28T13:09:00.534Z"
   },
   {
    "duration": -56,
    "start_time": "2021-11-28T13:09:00.537Z"
   },
   {
    "duration": -58,
    "start_time": "2021-11-28T13:09:00.540Z"
   },
   {
    "duration": -33,
    "start_time": "2021-11-28T13:09:38.023Z"
   },
   {
    "duration": -43,
    "start_time": "2021-11-28T13:09:38.034Z"
   },
   {
    "duration": 1152,
    "start_time": "2021-11-28T13:09:56.258Z"
   },
   {
    "duration": 51,
    "start_time": "2021-11-28T13:09:57.412Z"
   },
   {
    "duration": 21,
    "start_time": "2021-11-28T13:09:57.465Z"
   },
   {
    "duration": 11,
    "start_time": "2021-11-28T13:09:57.488Z"
   },
   {
    "duration": 15,
    "start_time": "2021-11-28T13:09:57.501Z"
   },
   {
    "duration": 38,
    "start_time": "2021-11-28T13:09:57.517Z"
   },
   {
    "duration": 9,
    "start_time": "2021-11-28T13:09:57.557Z"
   },
   {
    "duration": 13,
    "start_time": "2021-11-28T13:09:57.569Z"
   },
   {
    "duration": 23,
    "start_time": "2021-11-28T13:09:57.584Z"
   },
   {
    "duration": 5,
    "start_time": "2021-11-28T13:09:57.608Z"
   },
   {
    "duration": 30,
    "start_time": "2021-11-28T13:09:57.615Z"
   },
   {
    "duration": 13,
    "start_time": "2021-11-28T13:09:57.647Z"
   },
   {
    "duration": 18,
    "start_time": "2021-11-28T13:09:57.662Z"
   },
   {
    "duration": 30,
    "start_time": "2021-11-28T13:09:57.682Z"
   },
   {
    "duration": 32,
    "start_time": "2021-11-28T13:09:57.714Z"
   },
   {
    "duration": 1328,
    "start_time": "2021-11-28T13:09:57.747Z"
   },
   {
    "duration": -71,
    "start_time": "2021-11-28T13:09:59.148Z"
   },
   {
    "duration": -73,
    "start_time": "2021-11-28T13:09:59.151Z"
   },
   {
    "duration": -77,
    "start_time": "2021-11-28T13:09:59.156Z"
   },
   {
    "duration": -81,
    "start_time": "2021-11-28T13:09:59.161Z"
   },
   {
    "duration": -83,
    "start_time": "2021-11-28T13:09:59.164Z"
   },
   {
    "duration": -85,
    "start_time": "2021-11-28T13:09:59.167Z"
   },
   {
    "duration": -98,
    "start_time": "2021-11-28T13:09:59.181Z"
   },
   {
    "duration": -100,
    "start_time": "2021-11-28T13:09:59.184Z"
   },
   {
    "duration": -104,
    "start_time": "2021-11-28T13:09:59.189Z"
   },
   {
    "duration": -117,
    "start_time": "2021-11-28T13:09:59.203Z"
   },
   {
    "duration": -122,
    "start_time": "2021-11-28T13:09:59.209Z"
   },
   {
    "duration": -126,
    "start_time": "2021-11-28T13:09:59.214Z"
   },
   {
    "duration": 4011,
    "start_time": "2021-11-28T13:10:55.394Z"
   },
   {
    "duration": 8,
    "start_time": "2021-11-28T13:11:11.262Z"
   },
   {
    "duration": 17,
    "start_time": "2021-11-28T13:11:19.602Z"
   },
   {
    "duration": 8,
    "start_time": "2021-11-28T13:11:21.974Z"
   },
   {
    "duration": 14,
    "start_time": "2021-11-28T13:11:25.574Z"
   },
   {
    "duration": 1153,
    "start_time": "2021-11-28T13:11:33.595Z"
   },
   {
    "duration": 52,
    "start_time": "2021-11-28T13:11:34.749Z"
   },
   {
    "duration": 21,
    "start_time": "2021-11-28T13:11:34.803Z"
   },
   {
    "duration": 34,
    "start_time": "2021-11-28T13:11:34.826Z"
   },
   {
    "duration": 27,
    "start_time": "2021-11-28T13:11:34.862Z"
   },
   {
    "duration": 34,
    "start_time": "2021-11-28T13:11:34.891Z"
   },
   {
    "duration": 28,
    "start_time": "2021-11-28T13:11:34.926Z"
   },
   {
    "duration": 31,
    "start_time": "2021-11-28T13:11:34.957Z"
   },
   {
    "duration": 37,
    "start_time": "2021-11-28T13:11:34.990Z"
   },
   {
    "duration": 50,
    "start_time": "2021-11-28T13:11:35.029Z"
   },
   {
    "duration": 14,
    "start_time": "2021-11-28T13:11:35.080Z"
   },
   {
    "duration": 28,
    "start_time": "2021-11-28T13:11:35.097Z"
   },
   {
    "duration": 37,
    "start_time": "2021-11-28T13:11:35.127Z"
   },
   {
    "duration": 46,
    "start_time": "2021-11-28T13:11:35.167Z"
   },
   {
    "duration": 11,
    "start_time": "2021-11-28T13:11:35.215Z"
   },
   {
    "duration": 4126,
    "start_time": "2021-11-28T13:11:35.244Z"
   },
   {
    "duration": 8,
    "start_time": "2021-11-28T13:11:39.373Z"
   },
   {
    "duration": 19,
    "start_time": "2021-11-28T13:11:39.382Z"
   },
   {
    "duration": 7,
    "start_time": "2021-11-28T13:11:39.403Z"
   },
   {
    "duration": 37,
    "start_time": "2021-11-28T13:11:39.412Z"
   },
   {
    "duration": 13,
    "start_time": "2021-11-28T13:11:39.451Z"
   },
   {
    "duration": 6,
    "start_time": "2021-11-28T13:11:39.466Z"
   },
   {
    "duration": 616,
    "start_time": "2021-11-28T13:11:39.476Z"
   },
   {
    "duration": 8,
    "start_time": "2021-11-28T13:11:40.094Z"
   },
   {
    "duration": 3,
    "start_time": "2021-11-28T13:11:40.104Z"
   },
   {
    "duration": 300,
    "start_time": "2021-11-28T13:11:40.109Z"
   },
   {
    "duration": 7468,
    "start_time": "2021-11-28T13:11:40.411Z"
   },
   {
    "duration": -141,
    "start_time": "2021-11-28T13:11:48.022Z"
   },
   {
    "duration": 3,
    "start_time": "2021-11-28T13:13:10.009Z"
   },
   {
    "duration": 9,
    "start_time": "2021-11-28T13:13:39.479Z"
   },
   {
    "duration": 7,
    "start_time": "2021-11-28T13:15:10.645Z"
   },
   {
    "duration": 8,
    "start_time": "2021-11-28T13:25:05.749Z"
   },
   {
    "duration": 9,
    "start_time": "2021-11-28T13:26:21.366Z"
   },
   {
    "duration": 2469,
    "start_time": "2021-11-28T13:37:58.177Z"
   },
   {
    "duration": 2179,
    "start_time": "2021-11-28T13:38:14.664Z"
   },
   {
    "duration": 3941,
    "start_time": "2021-11-28T13:38:33.510Z"
   },
   {
    "duration": 470,
    "start_time": "2021-11-28T13:38:47.103Z"
   },
   {
    "duration": 289,
    "start_time": "2021-11-28T13:39:24.259Z"
   },
   {
    "duration": 12,
    "start_time": "2021-11-28T13:39:37.545Z"
   },
   {
    "duration": 10,
    "start_time": "2021-11-28T13:39:47.115Z"
   },
   {
    "duration": 20,
    "start_time": "2021-11-28T13:40:06.952Z"
   },
   {
    "duration": 6,
    "start_time": "2021-11-28T13:40:58.599Z"
   },
   {
    "duration": 1168,
    "start_time": "2021-11-28T13:41:05.810Z"
   },
   {
    "duration": 49,
    "start_time": "2021-11-28T13:41:06.980Z"
   },
   {
    "duration": 19,
    "start_time": "2021-11-28T13:41:07.031Z"
   },
   {
    "duration": 24,
    "start_time": "2021-11-28T13:41:07.052Z"
   },
   {
    "duration": 40,
    "start_time": "2021-11-28T13:41:07.077Z"
   },
   {
    "duration": 16,
    "start_time": "2021-11-28T13:41:07.118Z"
   },
   {
    "duration": 24,
    "start_time": "2021-11-28T13:41:07.136Z"
   },
   {
    "duration": 32,
    "start_time": "2021-11-28T13:41:07.162Z"
   },
   {
    "duration": 30,
    "start_time": "2021-11-28T13:41:07.197Z"
   },
   {
    "duration": 28,
    "start_time": "2021-11-28T13:41:07.229Z"
   },
   {
    "duration": 32,
    "start_time": "2021-11-28T13:41:07.259Z"
   },
   {
    "duration": 37,
    "start_time": "2021-11-28T13:41:07.293Z"
   },
   {
    "duration": 29,
    "start_time": "2021-11-28T13:41:07.332Z"
   },
   {
    "duration": 38,
    "start_time": "2021-11-28T13:41:07.363Z"
   },
   {
    "duration": 6,
    "start_time": "2021-11-28T13:41:07.403Z"
   },
   {
    "duration": 3573,
    "start_time": "2021-11-28T13:41:07.411Z"
   },
   {
    "duration": 8,
    "start_time": "2021-11-28T13:41:10.986Z"
   },
   {
    "duration": 17,
    "start_time": "2021-11-28T13:41:10.995Z"
   },
   {
    "duration": 6,
    "start_time": "2021-11-28T13:41:11.014Z"
   },
   {
    "duration": 33,
    "start_time": "2021-11-28T13:41:11.022Z"
   },
   {
    "duration": 9,
    "start_time": "2021-11-28T13:41:11.057Z"
   },
   {
    "duration": 4,
    "start_time": "2021-11-28T13:41:11.067Z"
   },
   {
    "duration": 589,
    "start_time": "2021-11-28T13:41:11.074Z"
   },
   {
    "duration": 19,
    "start_time": "2021-11-28T13:41:11.665Z"
   },
   {
    "duration": 7,
    "start_time": "2021-11-28T13:41:11.686Z"
   },
   {
    "duration": 7,
    "start_time": "2021-11-28T13:41:11.695Z"
   },
   {
    "duration": 5,
    "start_time": "2021-11-28T13:41:11.704Z"
   },
   {
    "duration": 36,
    "start_time": "2021-11-28T13:41:11.711Z"
   },
   {
    "duration": 398,
    "start_time": "2021-11-28T13:41:11.748Z"
   },
   {
    "duration": 283,
    "start_time": "2021-11-28T13:51:12.669Z"
   },
   {
    "duration": 332,
    "start_time": "2021-11-28T13:51:20.090Z"
   },
   {
    "duration": 13,
    "start_time": "2021-11-28T13:51:30.095Z"
   },
   {
    "duration": 15,
    "start_time": "2021-11-28T13:52:24.407Z"
   },
   {
    "duration": 13,
    "start_time": "2021-11-28T13:53:26.062Z"
   },
   {
    "duration": 12,
    "start_time": "2021-11-28T13:53:29.726Z"
   },
   {
    "duration": 12,
    "start_time": "2021-11-28T13:53:32.994Z"
   },
   {
    "duration": 18,
    "start_time": "2021-11-28T13:53:37.054Z"
   },
   {
    "duration": 14,
    "start_time": "2021-11-28T13:55:33.120Z"
   },
   {
    "duration": 16,
    "start_time": "2021-11-28T14:04:36.367Z"
   },
   {
    "duration": 18,
    "start_time": "2021-11-28T14:05:15.188Z"
   },
   {
    "duration": 14,
    "start_time": "2021-11-28T14:09:05.438Z"
   },
   {
    "duration": 16,
    "start_time": "2021-11-28T14:15:18.944Z"
   },
   {
    "duration": 17,
    "start_time": "2021-11-28T14:15:31.070Z"
   },
   {
    "duration": 13,
    "start_time": "2021-11-28T14:15:46.701Z"
   },
   {
    "duration": 14,
    "start_time": "2021-11-28T14:15:57.257Z"
   },
   {
    "duration": 13,
    "start_time": "2021-11-28T14:23:31.423Z"
   },
   {
    "duration": 1157,
    "start_time": "2021-11-28T14:34:56.396Z"
   },
   {
    "duration": 49,
    "start_time": "2021-11-28T14:34:57.555Z"
   },
   {
    "duration": 20,
    "start_time": "2021-11-28T14:34:57.606Z"
   },
   {
    "duration": 29,
    "start_time": "2021-11-28T14:34:57.627Z"
   },
   {
    "duration": 41,
    "start_time": "2021-11-28T14:34:57.657Z"
   },
   {
    "duration": 18,
    "start_time": "2021-11-28T14:34:57.700Z"
   },
   {
    "duration": 31,
    "start_time": "2021-11-28T14:34:57.720Z"
   },
   {
    "duration": 33,
    "start_time": "2021-11-28T14:34:57.753Z"
   },
   {
    "duration": 29,
    "start_time": "2021-11-28T14:34:57.788Z"
   },
   {
    "duration": 18,
    "start_time": "2021-11-28T14:34:57.818Z"
   },
   {
    "duration": 21,
    "start_time": "2021-11-28T14:34:57.837Z"
   },
   {
    "duration": 35,
    "start_time": "2021-11-28T14:34:57.860Z"
   },
   {
    "duration": 35,
    "start_time": "2021-11-28T14:34:57.897Z"
   },
   {
    "duration": 47,
    "start_time": "2021-11-28T14:34:57.933Z"
   },
   {
    "duration": 16,
    "start_time": "2021-11-28T14:34:57.982Z"
   },
   {
    "duration": 3671,
    "start_time": "2021-11-28T14:34:58.000Z"
   },
   {
    "duration": 6,
    "start_time": "2021-11-28T14:35:01.673Z"
   },
   {
    "duration": 42,
    "start_time": "2021-11-28T14:35:01.681Z"
   },
   {
    "duration": 27,
    "start_time": "2021-11-28T14:35:01.725Z"
   },
   {
    "duration": 41,
    "start_time": "2021-11-28T14:35:01.754Z"
   },
   {
    "duration": 37,
    "start_time": "2021-11-28T14:35:01.797Z"
   },
   {
    "duration": 25,
    "start_time": "2021-11-28T14:35:01.836Z"
   },
   {
    "duration": 1047,
    "start_time": "2021-11-28T14:35:01.865Z"
   },
   {
    "duration": 38,
    "start_time": "2021-11-28T14:35:02.914Z"
   },
   {
    "duration": 9,
    "start_time": "2021-11-28T14:35:02.954Z"
   },
   {
    "duration": 9,
    "start_time": "2021-11-28T14:35:02.965Z"
   },
   {
    "duration": 5,
    "start_time": "2021-11-28T14:35:02.975Z"
   },
   {
    "duration": 10,
    "start_time": "2021-11-28T14:35:02.982Z"
   },
   {
    "duration": 25,
    "start_time": "2021-11-28T14:35:02.994Z"
   },
   {
    "duration": 30,
    "start_time": "2021-11-28T14:35:03.021Z"
   },
   {
    "duration": 12,
    "start_time": "2021-11-28T14:35:03.052Z"
   },
   {
    "duration": 16,
    "start_time": "2021-11-28T14:35:03.066Z"
   },
   {
    "duration": 15,
    "start_time": "2021-11-28T14:50:26.771Z"
   },
   {
    "duration": 1176,
    "start_time": "2021-11-28T14:50:42.324Z"
   },
   {
    "duration": 50,
    "start_time": "2021-11-28T14:50:43.502Z"
   },
   {
    "duration": 20,
    "start_time": "2021-11-28T14:50:43.554Z"
   },
   {
    "duration": 12,
    "start_time": "2021-11-28T14:50:43.576Z"
   },
   {
    "duration": 27,
    "start_time": "2021-11-28T14:50:43.590Z"
   },
   {
    "duration": 26,
    "start_time": "2021-11-28T14:50:43.618Z"
   },
   {
    "duration": 12,
    "start_time": "2021-11-28T14:50:43.646Z"
   },
   {
    "duration": 34,
    "start_time": "2021-11-28T14:50:43.660Z"
   },
   {
    "duration": 33,
    "start_time": "2021-11-28T14:50:43.696Z"
   },
   {
    "duration": 24,
    "start_time": "2021-11-28T14:50:43.731Z"
   },
   {
    "duration": 11,
    "start_time": "2021-11-28T14:50:43.757Z"
   },
   {
    "duration": 32,
    "start_time": "2021-11-28T14:50:43.769Z"
   },
   {
    "duration": 33,
    "start_time": "2021-11-28T14:50:43.803Z"
   },
   {
    "duration": 31,
    "start_time": "2021-11-28T14:50:43.837Z"
   },
   {
    "duration": 8,
    "start_time": "2021-11-28T14:50:43.869Z"
   },
   {
    "duration": 3701,
    "start_time": "2021-11-28T14:50:43.879Z"
   },
   {
    "duration": 7,
    "start_time": "2021-11-28T14:50:47.582Z"
   },
   {
    "duration": 21,
    "start_time": "2021-11-28T14:50:47.591Z"
   },
   {
    "duration": 7,
    "start_time": "2021-11-28T14:50:47.613Z"
   },
   {
    "duration": 27,
    "start_time": "2021-11-28T14:50:47.622Z"
   },
   {
    "duration": 9,
    "start_time": "2021-11-28T14:50:47.651Z"
   },
   {
    "duration": 5,
    "start_time": "2021-11-28T14:50:47.661Z"
   },
   {
    "duration": 610,
    "start_time": "2021-11-28T14:50:47.669Z"
   },
   {
    "duration": 19,
    "start_time": "2021-11-28T14:50:48.281Z"
   },
   {
    "duration": 7,
    "start_time": "2021-11-28T14:50:48.301Z"
   },
   {
    "duration": 9,
    "start_time": "2021-11-28T14:50:48.309Z"
   },
   {
    "duration": 26,
    "start_time": "2021-11-28T14:50:48.319Z"
   },
   {
    "duration": 7,
    "start_time": "2021-11-28T14:50:48.347Z"
   },
   {
    "duration": 23,
    "start_time": "2021-11-28T14:50:48.355Z"
   },
   {
    "duration": 15,
    "start_time": "2021-11-28T14:50:48.380Z"
   },
   {
    "duration": 48,
    "start_time": "2021-11-28T14:50:48.397Z"
   },
   {
    "duration": 14,
    "start_time": "2021-11-28T14:50:48.447Z"
   },
   {
    "duration": 1212,
    "start_time": "2021-11-28T14:51:51.178Z"
   },
   {
    "duration": 48,
    "start_time": "2021-11-28T14:51:52.391Z"
   },
   {
    "duration": 20,
    "start_time": "2021-11-28T14:51:52.441Z"
   },
   {
    "duration": 19,
    "start_time": "2021-11-28T14:51:52.462Z"
   },
   {
    "duration": 23,
    "start_time": "2021-11-28T14:51:52.482Z"
   },
   {
    "duration": 18,
    "start_time": "2021-11-28T14:51:52.507Z"
   },
   {
    "duration": 16,
    "start_time": "2021-11-28T14:51:52.527Z"
   },
   {
    "duration": 12,
    "start_time": "2021-11-28T14:51:52.546Z"
   },
   {
    "duration": 23,
    "start_time": "2021-11-28T14:51:52.560Z"
   },
   {
    "duration": 5,
    "start_time": "2021-11-28T14:51:52.584Z"
   },
   {
    "duration": 13,
    "start_time": "2021-11-28T14:51:52.590Z"
   },
   {
    "duration": 27,
    "start_time": "2021-11-28T14:51:52.604Z"
   },
   {
    "duration": 40,
    "start_time": "2021-11-28T14:51:52.633Z"
   },
   {
    "duration": 28,
    "start_time": "2021-11-28T14:51:52.675Z"
   },
   {
    "duration": 7,
    "start_time": "2021-11-28T14:51:52.704Z"
   },
   {
    "duration": 3396,
    "start_time": "2021-11-28T14:51:52.712Z"
   },
   {
    "duration": 6,
    "start_time": "2021-11-28T14:51:56.110Z"
   },
   {
    "duration": 29,
    "start_time": "2021-11-28T14:51:56.117Z"
   },
   {
    "duration": 6,
    "start_time": "2021-11-28T14:51:56.148Z"
   },
   {
    "duration": 12,
    "start_time": "2021-11-28T14:51:56.156Z"
   },
   {
    "duration": 9,
    "start_time": "2021-11-28T14:51:56.169Z"
   },
   {
    "duration": 4,
    "start_time": "2021-11-28T14:51:56.179Z"
   },
   {
    "duration": 603,
    "start_time": "2021-11-28T14:51:56.186Z"
   },
   {
    "duration": 21,
    "start_time": "2021-11-28T14:51:56.791Z"
   },
   {
    "duration": 10,
    "start_time": "2021-11-28T14:51:56.813Z"
   },
   {
    "duration": 21,
    "start_time": "2021-11-28T14:51:56.825Z"
   },
   {
    "duration": 5,
    "start_time": "2021-11-28T14:51:56.848Z"
   },
   {
    "duration": 9,
    "start_time": "2021-11-28T14:51:56.854Z"
   },
   {
    "duration": 20,
    "start_time": "2021-11-28T14:51:56.865Z"
   },
   {
    "duration": 14,
    "start_time": "2021-11-28T14:51:56.886Z"
   },
   {
    "duration": 47,
    "start_time": "2021-11-28T14:51:56.901Z"
   },
   {
    "duration": 13,
    "start_time": "2021-11-28T14:51:56.949Z"
   },
   {
    "duration": 1805,
    "start_time": "2021-11-29T06:04:33.487Z"
   },
   {
    "duration": 90,
    "start_time": "2021-11-29T06:04:35.295Z"
   },
   {
    "duration": 49,
    "start_time": "2021-11-29T06:04:35.390Z"
   },
   {
    "duration": 43,
    "start_time": "2021-11-29T06:04:35.444Z"
   },
   {
    "duration": 22,
    "start_time": "2021-11-29T06:04:35.490Z"
   },
   {
    "duration": 52,
    "start_time": "2021-11-29T06:04:35.515Z"
   },
   {
    "duration": 16,
    "start_time": "2021-11-29T06:04:35.570Z"
   },
   {
    "duration": 21,
    "start_time": "2021-11-29T06:04:35.590Z"
   },
   {
    "duration": 65,
    "start_time": "2021-11-29T06:04:35.614Z"
   },
   {
    "duration": 10,
    "start_time": "2021-11-29T06:04:35.681Z"
   },
   {
    "duration": 8,
    "start_time": "2021-11-29T06:04:35.693Z"
   },
   {
    "duration": 22,
    "start_time": "2021-11-29T06:04:35.703Z"
   },
   {
    "duration": 61,
    "start_time": "2021-11-29T06:04:35.728Z"
   },
   {
    "duration": 52,
    "start_time": "2021-11-29T06:04:35.792Z"
   },
   {
    "duration": 30,
    "start_time": "2021-11-29T06:04:35.847Z"
   },
   {
    "duration": 4532,
    "start_time": "2021-11-29T06:04:35.880Z"
   },
   {
    "duration": 10,
    "start_time": "2021-11-29T06:04:40.415Z"
   },
   {
    "duration": 46,
    "start_time": "2021-11-29T06:04:40.427Z"
   },
   {
    "duration": 10,
    "start_time": "2021-11-29T06:04:40.476Z"
   },
   {
    "duration": 22,
    "start_time": "2021-11-29T06:04:40.488Z"
   },
   {
    "duration": 16,
    "start_time": "2021-11-29T06:04:40.512Z"
   },
   {
    "duration": 40,
    "start_time": "2021-11-29T06:04:40.530Z"
   },
   {
    "duration": 1074,
    "start_time": "2021-11-29T06:04:40.575Z"
   },
   {
    "duration": 39,
    "start_time": "2021-11-29T06:04:41.651Z"
   },
   {
    "duration": 13,
    "start_time": "2021-11-29T06:04:41.693Z"
   },
   {
    "duration": 23,
    "start_time": "2021-11-29T06:04:41.708Z"
   },
   {
    "duration": 22,
    "start_time": "2021-11-29T06:04:41.733Z"
   },
   {
    "duration": 16,
    "start_time": "2021-11-29T06:04:41.758Z"
   },
   {
    "duration": 38,
    "start_time": "2021-11-29T06:04:41.777Z"
   },
   {
    "duration": 24,
    "start_time": "2021-11-29T06:04:41.818Z"
   },
   {
    "duration": 22,
    "start_time": "2021-11-29T06:04:41.869Z"
   },
   {
    "duration": 28,
    "start_time": "2021-11-29T06:04:41.894Z"
   },
   {
    "duration": 7,
    "start_time": "2021-11-29T06:11:59.742Z"
   },
   {
    "duration": 517,
    "start_time": "2021-11-29T06:12:07.216Z"
   },
   {
    "duration": 339,
    "start_time": "2021-11-29T06:12:12.196Z"
   },
   {
    "duration": 10,
    "start_time": "2021-11-29T06:12:13.918Z"
   },
   {
    "duration": 85,
    "start_time": "2021-11-29T13:13:10.366Z"
   },
   {
    "duration": 81,
    "start_time": "2021-11-29T13:13:29.936Z"
   },
   {
    "duration": 86,
    "start_time": "2021-11-29T13:14:17.067Z"
   },
   {
    "duration": 338,
    "start_time": "2021-11-29T13:27:15.752Z"
   },
   {
    "duration": 1204,
    "start_time": "2021-11-29T13:27:27.195Z"
   },
   {
    "duration": 54,
    "start_time": "2021-11-29T13:27:28.401Z"
   },
   {
    "duration": 22,
    "start_time": "2021-11-29T13:27:28.457Z"
   },
   {
    "duration": 22,
    "start_time": "2021-11-29T13:27:28.481Z"
   },
   {
    "duration": 17,
    "start_time": "2021-11-29T13:27:28.505Z"
   },
   {
    "duration": 19,
    "start_time": "2021-11-29T13:27:28.524Z"
   },
   {
    "duration": 10,
    "start_time": "2021-11-29T13:27:28.564Z"
   },
   {
    "duration": 16,
    "start_time": "2021-11-29T13:27:28.578Z"
   },
   {
    "duration": 23,
    "start_time": "2021-11-29T13:27:28.597Z"
   },
   {
    "duration": 5,
    "start_time": "2021-11-29T13:27:28.622Z"
   },
   {
    "duration": 36,
    "start_time": "2021-11-29T13:27:28.629Z"
   },
   {
    "duration": 26,
    "start_time": "2021-11-29T13:27:28.667Z"
   },
   {
    "duration": 30,
    "start_time": "2021-11-29T13:27:28.695Z"
   },
   {
    "duration": 36,
    "start_time": "2021-11-29T13:27:28.727Z"
   },
   {
    "duration": 9,
    "start_time": "2021-11-29T13:27:28.765Z"
   },
   {
    "duration": 3607,
    "start_time": "2021-11-29T13:27:28.776Z"
   },
   {
    "duration": 7,
    "start_time": "2021-11-29T13:27:32.385Z"
   },
   {
    "duration": 26,
    "start_time": "2021-11-29T13:27:32.394Z"
   },
   {
    "duration": 7,
    "start_time": "2021-11-29T13:27:32.422Z"
   },
   {
    "duration": 44,
    "start_time": "2021-11-29T13:27:32.430Z"
   },
   {
    "duration": 1549,
    "start_time": "2021-11-29T13:27:32.476Z"
   },
   {
    "duration": -48,
    "start_time": "2021-11-29T13:27:34.076Z"
   },
   {
    "duration": -52,
    "start_time": "2021-11-29T13:27:34.081Z"
   },
   {
    "duration": -59,
    "start_time": "2021-11-29T13:27:34.089Z"
   },
   {
    "duration": -67,
    "start_time": "2021-11-29T13:27:34.099Z"
   },
   {
    "duration": -73,
    "start_time": "2021-11-29T13:27:34.106Z"
   },
   {
    "duration": -79,
    "start_time": "2021-11-29T13:27:34.114Z"
   },
   {
    "duration": -85,
    "start_time": "2021-11-29T13:27:34.121Z"
   },
   {
    "duration": -102,
    "start_time": "2021-11-29T13:27:34.139Z"
   },
   {
    "duration": -106,
    "start_time": "2021-11-29T13:27:34.145Z"
   },
   {
    "duration": 1465,
    "start_time": "2021-11-29T13:32:03.085Z"
   },
   {
    "duration": 548,
    "start_time": "2021-11-29T13:33:04.679Z"
   },
   {
    "duration": 1211,
    "start_time": "2021-11-29T13:33:32.503Z"
   },
   {
    "duration": 50,
    "start_time": "2021-11-29T13:33:33.716Z"
   },
   {
    "duration": 20,
    "start_time": "2021-11-29T13:33:33.768Z"
   },
   {
    "duration": 11,
    "start_time": "2021-11-29T13:33:33.790Z"
   },
   {
    "duration": 16,
    "start_time": "2021-11-29T13:33:33.802Z"
   },
   {
    "duration": 43,
    "start_time": "2021-11-29T13:33:33.820Z"
   },
   {
    "duration": 11,
    "start_time": "2021-11-29T13:33:33.865Z"
   },
   {
    "duration": 14,
    "start_time": "2021-11-29T13:33:33.878Z"
   },
   {
    "duration": 26,
    "start_time": "2021-11-29T13:33:33.896Z"
   },
   {
    "duration": 5,
    "start_time": "2021-11-29T13:33:33.925Z"
   },
   {
    "duration": 37,
    "start_time": "2021-11-29T13:33:33.932Z"
   },
   {
    "duration": 14,
    "start_time": "2021-11-29T13:33:33.971Z"
   },
   {
    "duration": 18,
    "start_time": "2021-11-29T13:33:33.987Z"
   },
   {
    "duration": 63,
    "start_time": "2021-11-29T13:33:34.008Z"
   },
   {
    "duration": 8,
    "start_time": "2021-11-29T13:33:34.074Z"
   },
   {
    "duration": 3900,
    "start_time": "2021-11-29T13:33:34.084Z"
   },
   {
    "duration": 7,
    "start_time": "2021-11-29T13:33:37.985Z"
   },
   {
    "duration": 22,
    "start_time": "2021-11-29T13:33:37.994Z"
   },
   {
    "duration": 7,
    "start_time": "2021-11-29T13:33:38.017Z"
   },
   {
    "duration": 15,
    "start_time": "2021-11-29T13:33:38.026Z"
   },
   {
    "duration": 477,
    "start_time": "2021-11-29T13:33:38.043Z"
   },
   {
    "duration": 22,
    "start_time": "2021-11-29T13:33:38.521Z"
   },
   {
    "duration": 19,
    "start_time": "2021-11-29T13:33:38.545Z"
   },
   {
    "duration": 20,
    "start_time": "2021-11-29T13:33:38.566Z"
   },
   {
    "duration": 20,
    "start_time": "2021-11-29T13:33:38.588Z"
   },
   {
    "duration": 22,
    "start_time": "2021-11-29T13:33:38.610Z"
   },
   {
    "duration": 20,
    "start_time": "2021-11-29T13:33:38.635Z"
   },
   {
    "duration": 14,
    "start_time": "2021-11-29T13:33:38.657Z"
   },
   {
    "duration": 20,
    "start_time": "2021-11-29T13:33:38.672Z"
   },
   {
    "duration": 22,
    "start_time": "2021-11-29T13:33:38.693Z"
   },
   {
    "duration": 1218,
    "start_time": "2021-11-29T13:42:43.241Z"
   },
   {
    "duration": 53,
    "start_time": "2021-11-29T13:42:44.463Z"
   },
   {
    "duration": 21,
    "start_time": "2021-11-29T13:42:44.518Z"
   },
   {
    "duration": 11,
    "start_time": "2021-11-29T13:42:44.541Z"
   },
   {
    "duration": 15,
    "start_time": "2021-11-29T13:42:44.562Z"
   },
   {
    "duration": 19,
    "start_time": "2021-11-29T13:42:44.578Z"
   },
   {
    "duration": 10,
    "start_time": "2021-11-29T13:42:44.598Z"
   },
   {
    "duration": 13,
    "start_time": "2021-11-29T13:42:44.611Z"
   },
   {
    "duration": 52,
    "start_time": "2021-11-29T13:42:44.626Z"
   },
   {
    "duration": 6,
    "start_time": "2021-11-29T13:42:44.680Z"
   },
   {
    "duration": 6,
    "start_time": "2021-11-29T13:42:44.688Z"
   },
   {
    "duration": 15,
    "start_time": "2021-11-29T13:42:44.696Z"
   },
   {
    "duration": 25,
    "start_time": "2021-11-29T13:42:44.712Z"
   },
   {
    "duration": 55,
    "start_time": "2021-11-29T13:42:44.740Z"
   },
   {
    "duration": 7,
    "start_time": "2021-11-29T13:42:44.797Z"
   },
   {
    "duration": 3645,
    "start_time": "2021-11-29T13:42:44.806Z"
   },
   {
    "duration": 16,
    "start_time": "2021-11-29T13:42:48.453Z"
   },
   {
    "duration": 20,
    "start_time": "2021-11-29T13:42:48.471Z"
   },
   {
    "duration": 8,
    "start_time": "2021-11-29T13:42:48.492Z"
   },
   {
    "duration": 17,
    "start_time": "2021-11-29T13:42:48.501Z"
   },
   {
    "duration": 477,
    "start_time": "2021-11-29T13:42:48.519Z"
   },
   {
    "duration": 21,
    "start_time": "2021-11-29T13:42:48.997Z"
   },
   {
    "duration": 12,
    "start_time": "2021-11-29T13:42:49.021Z"
   },
   {
    "duration": 30,
    "start_time": "2021-11-29T13:42:49.034Z"
   },
   {
    "duration": 6,
    "start_time": "2021-11-29T13:42:49.066Z"
   },
   {
    "duration": 13,
    "start_time": "2021-11-29T13:42:49.073Z"
   },
   {
    "duration": 23,
    "start_time": "2021-11-29T13:42:49.087Z"
   },
   {
    "duration": 15,
    "start_time": "2021-11-29T13:42:49.112Z"
   },
   {
    "duration": 37,
    "start_time": "2021-11-29T13:42:49.128Z"
   },
   {
    "duration": 16,
    "start_time": "2021-11-29T13:42:49.167Z"
   },
   {
    "duration": 1312,
    "start_time": "2021-11-29T13:43:37.953Z"
   },
   {
    "duration": 54,
    "start_time": "2021-11-29T13:43:39.267Z"
   },
   {
    "duration": 21,
    "start_time": "2021-11-29T13:43:39.323Z"
   },
   {
    "duration": 28,
    "start_time": "2021-11-29T13:43:39.346Z"
   },
   {
    "duration": 34,
    "start_time": "2021-11-29T13:43:39.377Z"
   },
   {
    "duration": 22,
    "start_time": "2021-11-29T13:43:39.413Z"
   },
   {
    "duration": 14,
    "start_time": "2021-11-29T13:43:39.437Z"
   },
   {
    "duration": 26,
    "start_time": "2021-11-29T13:43:39.453Z"
   },
   {
    "duration": 46,
    "start_time": "2021-11-29T13:43:39.481Z"
   },
   {
    "duration": 28,
    "start_time": "2021-11-29T13:43:39.530Z"
   },
   {
    "duration": 35,
    "start_time": "2021-11-29T13:43:39.560Z"
   },
   {
    "duration": 43,
    "start_time": "2021-11-29T13:43:39.596Z"
   },
   {
    "duration": 46,
    "start_time": "2021-11-29T13:43:39.641Z"
   },
   {
    "duration": 53,
    "start_time": "2021-11-29T13:43:39.690Z"
   },
   {
    "duration": 9,
    "start_time": "2021-11-29T13:43:39.745Z"
   },
   {
    "duration": 3847,
    "start_time": "2021-11-29T13:43:39.755Z"
   },
   {
    "duration": 10,
    "start_time": "2021-11-29T13:43:43.604Z"
   },
   {
    "duration": 58,
    "start_time": "2021-11-29T13:43:43.616Z"
   },
   {
    "duration": 21,
    "start_time": "2021-11-29T13:43:43.676Z"
   },
   {
    "duration": 58,
    "start_time": "2021-11-29T13:43:43.699Z"
   },
   {
    "duration": 504,
    "start_time": "2021-11-29T13:43:43.760Z"
   },
   {
    "duration": 22,
    "start_time": "2021-11-29T13:43:44.266Z"
   },
   {
    "duration": 41,
    "start_time": "2021-11-29T13:43:44.290Z"
   },
   {
    "duration": 25,
    "start_time": "2021-11-29T13:43:44.334Z"
   },
   {
    "duration": 20,
    "start_time": "2021-11-29T13:43:44.361Z"
   },
   {
    "duration": 23,
    "start_time": "2021-11-29T13:43:44.383Z"
   },
   {
    "duration": 60,
    "start_time": "2021-11-29T13:43:44.409Z"
   },
   {
    "duration": 15,
    "start_time": "2021-11-29T13:43:44.471Z"
   },
   {
    "duration": 45,
    "start_time": "2021-11-29T13:43:44.488Z"
   },
   {
    "duration": 27,
    "start_time": "2021-11-29T13:43:44.535Z"
   },
   {
    "duration": 97,
    "start_time": "2021-11-29T13:49:30.353Z"
   },
   {
    "duration": 1305,
    "start_time": "2021-11-29T13:52:27.531Z"
   },
   {
    "duration": 58,
    "start_time": "2021-11-29T13:52:28.839Z"
   },
   {
    "duration": 22,
    "start_time": "2021-11-29T13:52:28.900Z"
   },
   {
    "duration": 17,
    "start_time": "2021-11-29T13:52:28.924Z"
   },
   {
    "duration": 36,
    "start_time": "2021-11-29T13:52:28.943Z"
   },
   {
    "duration": 18,
    "start_time": "2021-11-29T13:52:28.981Z"
   },
   {
    "duration": 12,
    "start_time": "2021-11-29T13:52:29.002Z"
   },
   {
    "duration": 33,
    "start_time": "2021-11-29T13:52:29.016Z"
   },
   {
    "duration": 35,
    "start_time": "2021-11-29T13:52:29.053Z"
   },
   {
    "duration": 6,
    "start_time": "2021-11-29T13:52:29.091Z"
   },
   {
    "duration": 20,
    "start_time": "2021-11-29T13:52:29.099Z"
   },
   {
    "duration": 27,
    "start_time": "2021-11-29T13:52:29.121Z"
   },
   {
    "duration": 42,
    "start_time": "2021-11-29T13:52:29.149Z"
   },
   {
    "duration": 33,
    "start_time": "2021-11-29T13:52:29.193Z"
   },
   {
    "duration": 10,
    "start_time": "2021-11-29T13:52:29.227Z"
   },
   {
    "duration": 3877,
    "start_time": "2021-11-29T13:52:29.239Z"
   },
   {
    "duration": 9,
    "start_time": "2021-11-29T13:52:33.119Z"
   },
   {
    "duration": 36,
    "start_time": "2021-11-29T13:52:33.130Z"
   },
   {
    "duration": 9,
    "start_time": "2021-11-29T13:52:33.168Z"
   },
   {
    "duration": 26,
    "start_time": "2021-11-29T13:52:33.178Z"
   },
   {
    "duration": 506,
    "start_time": "2021-11-29T13:52:33.206Z"
   },
   {
    "duration": 27,
    "start_time": "2021-11-29T13:52:33.713Z"
   },
   {
    "duration": 27,
    "start_time": "2021-11-29T13:52:33.742Z"
   },
   {
    "duration": 15,
    "start_time": "2021-11-29T13:52:33.771Z"
   },
   {
    "duration": 7,
    "start_time": "2021-11-29T13:52:33.788Z"
   },
   {
    "duration": 7,
    "start_time": "2021-11-29T13:52:33.796Z"
   },
   {
    "duration": 20,
    "start_time": "2021-11-29T13:52:33.806Z"
   },
   {
    "duration": 43,
    "start_time": "2021-11-29T13:52:33.828Z"
   },
   {
    "duration": 15,
    "start_time": "2021-11-29T13:52:33.873Z"
   },
   {
    "duration": 15,
    "start_time": "2021-11-29T13:52:33.890Z"
   },
   {
    "duration": 1273,
    "start_time": "2021-11-29T13:56:01.998Z"
   },
   {
    "duration": 58,
    "start_time": "2021-11-29T13:56:03.273Z"
   },
   {
    "duration": 33,
    "start_time": "2021-11-29T13:56:03.333Z"
   },
   {
    "duration": 15,
    "start_time": "2021-11-29T13:56:03.369Z"
   },
   {
    "duration": 22,
    "start_time": "2021-11-29T13:56:03.386Z"
   },
   {
    "duration": 19,
    "start_time": "2021-11-29T13:56:03.411Z"
   },
   {
    "duration": 33,
    "start_time": "2021-11-29T13:56:03.432Z"
   },
   {
    "duration": 25,
    "start_time": "2021-11-29T13:56:03.468Z"
   },
   {
    "duration": 108,
    "start_time": "2021-11-29T13:56:03.495Z"
   },
   {
    "duration": 24,
    "start_time": "2021-11-29T13:56:03.605Z"
   },
   {
    "duration": 34,
    "start_time": "2021-11-29T13:56:03.631Z"
   },
   {
    "duration": 34,
    "start_time": "2021-11-29T13:56:03.667Z"
   },
   {
    "duration": 27,
    "start_time": "2021-11-29T13:56:03.702Z"
   },
   {
    "duration": 35,
    "start_time": "2021-11-29T13:56:03.731Z"
   },
   {
    "duration": 7,
    "start_time": "2021-11-29T13:56:03.768Z"
   },
   {
    "duration": 3727,
    "start_time": "2021-11-29T13:56:03.777Z"
   },
   {
    "duration": 8,
    "start_time": "2021-11-29T13:56:07.506Z"
   },
   {
    "duration": 34,
    "start_time": "2021-11-29T13:56:07.516Z"
   },
   {
    "duration": 16,
    "start_time": "2021-11-29T13:56:07.552Z"
   },
   {
    "duration": 36,
    "start_time": "2021-11-29T13:56:07.570Z"
   },
   {
    "duration": 464,
    "start_time": "2021-11-29T13:56:07.608Z"
   },
   {
    "duration": 23,
    "start_time": "2021-11-29T13:56:08.074Z"
   },
   {
    "duration": 8,
    "start_time": "2021-11-29T13:56:08.101Z"
   },
   {
    "duration": 12,
    "start_time": "2021-11-29T13:56:08.111Z"
   },
   {
    "duration": 23,
    "start_time": "2021-11-29T13:56:08.125Z"
   },
   {
    "duration": 29,
    "start_time": "2021-11-29T13:56:08.150Z"
   },
   {
    "duration": 40,
    "start_time": "2021-11-29T13:56:08.181Z"
   },
   {
    "duration": 29,
    "start_time": "2021-11-29T13:56:08.223Z"
   },
   {
    "duration": 40,
    "start_time": "2021-11-29T13:56:08.255Z"
   },
   {
    "duration": 46,
    "start_time": "2021-11-29T13:56:08.297Z"
   },
   {
    "duration": 1187,
    "start_time": "2021-11-29T17:33:11.664Z"
   },
   {
    "duration": 51,
    "start_time": "2021-11-29T17:33:12.853Z"
   },
   {
    "duration": 20,
    "start_time": "2021-11-29T17:33:12.906Z"
   },
   {
    "duration": 14,
    "start_time": "2021-11-29T17:33:12.928Z"
   },
   {
    "duration": 26,
    "start_time": "2021-11-29T17:33:12.944Z"
   },
   {
    "duration": 17,
    "start_time": "2021-11-29T17:33:12.972Z"
   },
   {
    "duration": 10,
    "start_time": "2021-11-29T17:33:12.991Z"
   },
   {
    "duration": 14,
    "start_time": "2021-11-29T17:33:13.003Z"
   },
   {
    "duration": 54,
    "start_time": "2021-11-29T17:33:13.019Z"
   },
   {
    "duration": 7,
    "start_time": "2021-11-29T17:33:13.075Z"
   },
   {
    "duration": 18,
    "start_time": "2021-11-29T17:33:13.084Z"
   },
   {
    "duration": 21,
    "start_time": "2021-11-29T17:33:13.104Z"
   },
   {
    "duration": 43,
    "start_time": "2021-11-29T17:33:13.127Z"
   },
   {
    "duration": 30,
    "start_time": "2021-11-29T17:33:13.172Z"
   },
   {
    "duration": 7,
    "start_time": "2021-11-29T17:33:13.204Z"
   },
   {
    "duration": 3478,
    "start_time": "2021-11-29T17:33:13.213Z"
   },
   {
    "duration": 8,
    "start_time": "2021-11-29T17:33:16.694Z"
   },
   {
    "duration": 52,
    "start_time": "2021-11-29T17:33:16.704Z"
   },
   {
    "duration": 7,
    "start_time": "2021-11-29T17:33:16.758Z"
   },
   {
    "duration": 15,
    "start_time": "2021-11-29T17:33:16.767Z"
   },
   {
    "duration": 447,
    "start_time": "2021-11-29T17:33:16.784Z"
   },
   {
    "duration": 31,
    "start_time": "2021-11-29T17:33:17.233Z"
   },
   {
    "duration": 7,
    "start_time": "2021-11-29T17:33:17.267Z"
   },
   {
    "duration": 10,
    "start_time": "2021-11-29T17:33:17.276Z"
   },
   {
    "duration": 7,
    "start_time": "2021-11-29T17:33:17.287Z"
   },
   {
    "duration": 7,
    "start_time": "2021-11-29T17:33:17.296Z"
   },
   {
    "duration": 24,
    "start_time": "2021-11-29T17:33:17.305Z"
   },
   {
    "duration": 44,
    "start_time": "2021-11-29T17:33:17.331Z"
   },
   {
    "duration": 13,
    "start_time": "2021-11-29T17:33:17.376Z"
   },
   {
    "duration": 12,
    "start_time": "2021-11-29T17:33:17.391Z"
   }
  ],
  "kernelspec": {
   "display_name": "Python 3",
   "language": "python",
   "name": "python3"
  },
  "language_info": {
   "codemirror_mode": {
    "name": "ipython",
    "version": 3
   },
   "file_extension": ".py",
   "mimetype": "text/x-python",
   "name": "python",
   "nbconvert_exporter": "python",
   "pygments_lexer": "ipython3",
   "version": "3.8.8"
  },
  "toc": {
   "base_numbering": 1,
   "nav_menu": {},
   "number_sections": true,
   "sideBar": true,
   "skip_h1_title": true,
   "title_cell": "Table of Contents",
   "title_sidebar": "Contents",
   "toc_cell": false,
   "toc_position": {},
   "toc_section_display": true,
   "toc_window_display": false
  }
 },
 "nbformat": 4,
 "nbformat_minor": 2
}
